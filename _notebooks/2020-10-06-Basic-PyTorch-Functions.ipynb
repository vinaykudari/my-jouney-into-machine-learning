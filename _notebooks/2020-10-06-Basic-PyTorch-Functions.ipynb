{
 "cells": [
  {
   "cell_type": "markdown",
   "metadata": {},
   "source": [
    "# \"Basic PyTorch Functions\"\n",
    "\n",
    "- toc: true\n",
    "- branch: master\n",
    "- badges: true\n",
    "- comments: true\n",
    "- categories: [pytorch, math]\n",
    "- hide: false\n",
    "- author: Vinay Kudari\n",
    "- search_exclude: true\n",
    "- metadata_key1: pytorch"
   ]
  },
  {
   "cell_type": "code",
   "execution_count": 42,
   "metadata": {},
   "outputs": [],
   "source": [
    "import torch\n",
    "from torch import tensor\n",
    "import torch.nn.functional as F"
   ]
  },
  {
   "cell_type": "markdown",
   "metadata": {},
   "source": [
    "### Embedding"
   ]
  },
  {
   "cell_type": "markdown",
   "metadata": {},
   "source": [
    "Embedding indexes into a vector using an integer, but has its derivative calculated in such a way that it is identical to what it would have been if it had done a matrix multiplication with a one-hot-encoded vector."
   ]
  },
  {
   "cell_type": "code",
   "execution_count": 54,
   "metadata": {},
   "outputs": [],
   "source": [
    "??F.embedding"
   ]
  },
  {
   "cell_type": "code",
   "execution_count": 44,
   "metadata": {},
   "outputs": [
    {
     "data": {
      "text/plain": [
       "tensor([[-0.2647, -1.9060, -0.1566,  0.3325, -0.5478],\n",
       "        [-0.7716, -0.0692,  0.7523, -0.1736,  0.0876],\n",
       "        [-0.6952,  0.1141,  0.2111,  0.2130, -0.6404],\n",
       "        [ 0.7191,  0.4450, -0.2955, -0.8187, -0.0228],\n",
       "        [-0.9783,  0.0550, -0.9054,  1.8447, -1.3366]])"
      ]
     },
     "execution_count": 44,
     "metadata": {},
     "output_type": "execute_result"
    }
   ],
   "source": [
    "matrix = torch.randn(5, 5)\n",
    "matrix"
   ]
  },
  {
   "cell_type": "code",
   "execution_count": 46,
   "metadata": {},
   "outputs": [
    {
     "data": {
      "text/plain": [
       "tensor([[1, 2, 2],\n",
       "        [2, 3, 4]])"
      ]
     },
     "execution_count": 46,
     "metadata": {},
     "output_type": "execute_result"
    }
   ],
   "source": [
    "idx = tensor([[1, 2, 2], [2, 3, 4]])\n",
    "idx"
   ]
  },
  {
   "cell_type": "code",
   "execution_count": 47,
   "metadata": {},
   "outputs": [
    {
     "data": {
      "text/plain": [
       "tensor([[[-0.7716, -0.0692,  0.7523, -0.1736,  0.0876],\n",
       "         [-0.6952,  0.1141,  0.2111,  0.2130, -0.6404],\n",
       "         [-0.6952,  0.1141,  0.2111,  0.2130, -0.6404]],\n",
       "\n",
       "        [[-0.6952,  0.1141,  0.2111,  0.2130, -0.6404],\n",
       "         [ 0.7191,  0.4450, -0.2955, -0.8187, -0.0228],\n",
       "         [-0.9783,  0.0550, -0.9054,  1.8447, -1.3366]]])"
      ]
     },
     "execution_count": 47,
     "metadata": {},
     "output_type": "execute_result"
    }
   ],
   "source": [
    "F.embedding(idx, matrix)"
   ]
  },
  {
   "cell_type": "markdown",
   "metadata": {},
   "source": [
    "### Module"
   ]
  },
  {
   "cell_type": "markdown",
   "metadata": {},
   "source": [
    "Module can be used as a base class for creating neural networks, it offers some functionality which makes the job easier. For instance, when ever we call the object of our module `forward()` will be executed and the arguments will be pass on to that function"
   ]
  },
  {
   "cell_type": "code",
   "execution_count": 75,
   "metadata": {},
   "outputs": [],
   "source": [
    "??torch.nn.Module"
   ]
  },
  {
   "cell_type": "code",
   "execution_count": 76,
   "metadata": {},
   "outputs": [],
   "source": [
    "class PyModule(torch.nn.Module):\n",
    "    def __init__(self, param1, param2, param3):\n",
    "        super().__init__()\n",
    "        self.param1 = torch.nn.Parameter(param1)\n",
    "        self.param2 = torch.nn.Parameter(param2)\n",
    "        self.param3 = param3\n",
    "    \n",
    "    def forward(self, inp):\n",
    "        return self.param1 + self.param2 + self.param3 + inp"
   ]
  },
  {
   "cell_type": "markdown",
   "metadata": {},
   "source": [
    "Module will only register as parameters only the argumets we set using `torch.nn.Parameter()` "
   ]
  },
  {
   "cell_type": "code",
   "execution_count": 80,
   "metadata": {},
   "outputs": [
    {
     "data": {
      "text/plain": [
       "[Parameter containing:\n",
       " tensor([1., 2., 3.], requires_grad=True),\n",
       " Parameter containing:\n",
       " tensor([1., 1., 1.], requires_grad=True)]"
      ]
     },
     "execution_count": 80,
     "metadata": {},
     "output_type": "execute_result"
    }
   ],
   "source": [
    "module = PyModule(tensor([1., 2., 3.]), tensor([1., 1., 1.]), tensor([1., 1., 1.]))\n",
    "list(module.parameters())"
   ]
  },
  {
   "cell_type": "code",
   "execution_count": 81,
   "metadata": {},
   "outputs": [
    {
     "data": {
      "text/plain": [
       "tensor([2., 3., 4.], grad_fn=<AddBackward0>)"
      ]
     },
     "execution_count": 81,
     "metadata": {},
     "output_type": "execute_result"
    }
   ],
   "source": [
    "module(tensor([-1, -1, -1]))"
   ]
  },
  {
   "cell_type": "markdown",
   "metadata": {},
   "source": [
    "### Derivatives"
   ]
  },
  {
   "cell_type": "code",
   "execution_count": 2,
   "metadata": {},
   "outputs": [],
   "source": [
    "def f(x):\n",
    "    return (x)**2 + (3*x)"
   ]
  },
  {
   "cell_type": "code",
   "execution_count": 3,
   "metadata": {},
   "outputs": [
    {
     "data": {
      "text/plain": [
       "tensor(7.)"
      ]
     },
     "execution_count": 3,
     "metadata": {},
     "output_type": "execute_result"
    }
   ],
   "source": [
    "\n",
    "x1 = torch.tensor(2.).requires_grad_()\n",
    "y1 = f(x1)\n",
    "y1.backward()\n",
    "x1.grad"
   ]
  }
 ],
 "metadata": {
  "kernelspec": {
   "display_name": "Python 3",
   "language": "python",
   "name": "python3"
  },
  "language_info": {
   "codemirror_mode": {
    "name": "ipython",
    "version": 3
   },
   "file_extension": ".py",
   "mimetype": "text/x-python",
   "name": "python",
   "nbconvert_exporter": "python",
   "pygments_lexer": "ipython3",
   "version": "3.8.5"
  }
 },
 "nbformat": 4,
 "nbformat_minor": 4
}
