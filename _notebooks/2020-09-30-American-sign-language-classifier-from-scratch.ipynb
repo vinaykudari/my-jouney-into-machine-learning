{
 "cells": [
  {
   "cell_type": "markdown",
   "metadata": {},
   "source": [
    "# \"American sign language classifier from scratch [99.63% accurate]\"\n",
    "\n",
    "- toc: true\n",
    "- branch: master\n",
    "- badges: true\n",
    "- comments: true\n",
    "- categories: [classifier, scratch, vision]\n",
    "- image: images/asl.jpg\n",
    "- hide: false\n",
    "- author: Vinay Kudari\n",
    "- search_exclude: true\n",
    "- metadata_key1: deeplearning\n",
    "- metadata_key2: image-classifier"
   ]
  },
  {
   "cell_type": "markdown",
   "metadata": {},
   "source": [
    "Deep learning based image classifier written from scratch using PyTorch and some of the Fastai functions"
   ]
  },
  {
   "cell_type": "markdown",
   "metadata": {},
   "source": [
    "![American Sign Language Classifier](images/asl.jpg \"Credits: Dictionary.com\")"
   ]
  },
  {
   "cell_type": "markdown",
   "metadata": {},
   "source": [
    "Dataset: [Kaggle](https://www.kaggle.com/datamunge/sign-language-mnist)\n",
    "\n",
    "Benchmarks:\n",
    "* ~99.63% accuracy with one layer of parameters and no pre-processing"
   ]
  },
  {
   "cell_type": "code",
   "execution_count": 1,
   "metadata": {},
   "outputs": [],
   "source": [
    "from fastai.vision.all import *\n",
    "import pandas as pd\n",
    "from os import path\n",
    "torch.cuda.set_device(0)\n",
    "torch.set_default_tensor_type('torch.cuda.FloatTensor')"
   ]
  },
  {
   "cell_type": "code",
   "execution_count": 2,
   "metadata": {},
   "outputs": [
    {
     "data": {
      "text/plain": [
       "((21964, 785), (5491, 785), (7172, 785))"
      ]
     },
     "execution_count": 2,
     "metadata": {},
     "output_type": "execute_result"
    }
   ],
   "source": [
    "if path.exists('/storage'):\n",
    "    # Paperspace\n",
    "    train_df = pd.read_csv('/storage/data/asl/sign_mnist_train.csv')\n",
    "    test_df = pd.read_csv('/storage/data/asl/sign_mnist_test.csv')\n",
    "elif path.exists('/Users/vinay/Datasets/'):\n",
    "    # Local\n",
    "    train_df = pd.read_csv('/Users/vinay/Datasets/asl/sign_mnist_train.csv')\n",
    "    test_df = pd.read_csv('/Users/vinay/Datasets/asl/sign_mnist_test.csv')\n",
    "else:\n",
    "    # GCP\n",
    "    train_df = pd.read_csv('/home/jupyter/datasets/asl/sign_mnist_train.csv')\n",
    "    test_df = pd.read_csv('/home/jupyter/datasets/asl/sign_mnist_test.csv') \n",
    "\n",
    "# Randomly select 20% of training data as validation data\n",
    "valid_df = train_df.sample(frac=0.2)\n",
    "train_df = train_df.drop(valid_df.index)\n",
    "\n",
    "train_df.shape, valid_df.shape, test_df.shape"
   ]
  },
  {
   "cell_type": "markdown",
   "metadata": {},
   "source": [
    "### Prepare dataset"
   ]
  },
  {
   "cell_type": "markdown",
   "metadata": {},
   "source": [
    "The training data is arranged such that each row in the dataframe consists of an image and its corresponding label"
   ]
  },
  {
   "cell_type": "code",
   "execution_count": 3,
   "metadata": {},
   "outputs": [],
   "source": [
    "# Select all the labels\n",
    "def get_labels(df):\n",
    "    return tensor(df.iloc[:, 0].values).to('cuda')\n",
    "\n",
    "# Select all the pixel intensities and convert into a 1-D tensor of values between 0 to 1\n",
    "def get_image_tensors(df):\n",
    "    return torch.stack([tensor(image_array)/255. for image_array in df.iloc[:, 1:].values]).to('cuda')\n",
    "\n",
    "def get_dataset(df):\n",
    "    return zip(get_image_tensors(df), get_labels(df))"
   ]
  },
  {
   "cell_type": "code",
   "execution_count": 4,
   "metadata": {},
   "outputs": [
    {
     "name": "stdout",
     "output_type": "stream",
     "text": [
      "tensor(3)\n",
      "tensor(6)\n"
     ]
    },
    {
     "data": {
      "image/png": "[encoded data removed]",
      "text/plain": [
       "<Figure size 72x72 with 1 Axes>"
      ]
     },
     "metadata": {
      "needs_background": "light"
     },
     "output_type": "display_data"
    },
    {
     "data": {
      "image/png": "[encoded data removed]",
      "text/plain": [
       "<Figure size 72x72 with 1 Axes>"
      ]
     },
     "metadata": {
      "needs_background": "light"
     },
     "output_type": "display_data"
    }
   ],
   "source": [
    "dataset = get_dataset(train_df)\n",
    "labels = get_labels(train_df)\n",
    "\n",
    "for image_tensor, label in list(dataset)[:2]:\n",
    "    print(label)\n",
    "    show_image(torch.reshape(image_tensor, (28, 28)), cmap='gray')"
   ]
  },
  {
   "cell_type": "markdown",
   "metadata": {},
   "source": [
    "### Initialize weights"
   ]
  },
  {
   "cell_type": "markdown",
   "metadata": {},
   "source": [
    "Generate random weights between -1 and 1 and mark them to calculate gradient by setting `.requires_grad_()` Autograd engine will track all the transformations/functions applied to weights in a graph structure (The leaves of this graph are input tensors and the roots are output tensors) and calculates the derivates when `.backward()` is called on the weights tensor.\n",
    "\n",
    "> Important: Know more about PyTorch Autograd [here](https://towardsdatascience.com/pytorch-autograd-understanding-the-heart-of-pytorchs-magic-2686cd94ec95)"
   ]
  },
  {
   "cell_type": "code",
   "execution_count": 10,
   "metadata": {},
   "outputs": [
    {
     "data": {
      "text/plain": [
       "Linear(in_features=784, out_features=25, bias=True)"
      ]
     },
     "execution_count": 10,
     "metadata": {},
     "output_type": "execute_result"
    }
   ],
   "source": [
    "def get_random_weights(rows, cols):\n",
    "    return torch.randn(rows, cols).to('cuda').requires_grad_()\n",
    "\n",
    "# pytorch equivalent\n",
    "parameters_py = nn.Linear(28*28, len(train_df.label.unique())+1)\n",
    "parameters_py"
   ]
  },
  {
   "cell_type": "code",
   "execution_count": 6,
   "metadata": {},
   "outputs": [
    {
     "data": {
      "text/plain": [
       "(torch.Size([784, 25]), torch.Size([1, 25]))"
      ]
     },
     "execution_count": 6,
     "metadata": {},
     "output_type": "execute_result"
    }
   ],
   "source": [
    "# each weight corresponds to each pixel of the input images\n",
    "weights = get_random_weights(28*28, len(train_df.label.unique())+1)\n",
    "bias = get_random_weights(1, len(train_df.label.unique())+1)\n",
    "parameters = (weights, bias)\n",
    "\n",
    "weights.shape, bias.shape"
   ]
  },
  {
   "cell_type": "markdown",
   "metadata": {},
   "source": [
    "### Get Predictions "
   ]
  },
  {
   "cell_type": "markdown",
   "metadata": {},
   "source": [
    "To find predictions we need to multiply each weight with correponding pixel intensity, calculate the sum and add the bias this operation can be done without any loops by matrix multiplication"
   ]
  },
  {
   "cell_type": "code",
   "execution_count": 7,
   "metadata": {},
   "outputs": [
    {
     "data": {
      "text/plain": [
       "(torch.Size([21964, 784]), torch.Size([784, 25]))"
      ]
     },
     "execution_count": 7,
     "metadata": {},
     "output_type": "execute_result"
    }
   ],
   "source": [
    "image_tensors = get_image_tensors(train_df)\n",
    "image_tensors.shape, weights.shape"
   ]
  },
  {
   "cell_type": "code",
   "execution_count": 8,
   "metadata": {},
   "outputs": [],
   "source": [
    "def get_predictions(image_tensors, weights, bias):\n",
    "    return image_tensors@weights + bias"
   ]
  },
  {
   "cell_type": "code",
   "execution_count": 9,
   "metadata": {},
   "outputs": [
    {
     "data": {
      "text/plain": [
       "torch.Size([21964, 25])"
      ]
     },
     "execution_count": 9,
     "metadata": {},
     "output_type": "execute_result"
    }
   ],
   "source": [
    "predictions = get_predictions(image_tensors, weights, bias)\n",
    "predictions.shape"
   ]
  },
  {
   "cell_type": "markdown",
   "metadata": {},
   "source": [
    "Predictions with random weights are around ~5% accurate, lets try to optimise them"
   ]
  },
  {
   "cell_type": "code",
   "execution_count": 19,
   "metadata": {},
   "outputs": [
    {
     "data": {
      "text/plain": [
       "tensor(0.0406)"
      ]
     },
     "execution_count": 19,
     "metadata": {},
     "output_type": "execute_result"
    }
   ],
   "source": [
    "def accuracy(df, parameters):\n",
    "    weights, bias = parameters\n",
    "    test_image_tensors, test_labels = get_image_tensors(valid_df), get_labels(valid_df)\n",
    "    test_preds = get_predictions(test_image_tensors, weights, bias)\n",
    "    pred_classes = torch.argmax(test_preds, dim=1)\n",
    "    return (pred_classes == test_labels).float().mean() \n",
    "\n",
    "accuracy(valid_df, parameters)"
   ]
  },
  {
   "cell_type": "markdown",
   "metadata": {},
   "source": [
    "### Calculate loss"
   ]
  },
  {
   "cell_type": "markdown",
   "metadata": {},
   "source": [
    "A loss function is a measure of how good your prediction model is in terms of being able to predict accurately. We turn the learning problem into an optimization problem by defining a loss function and optimise the parameters to minimise the loss"
   ]
  },
  {
   "cell_type": "markdown",
   "metadata": {},
   "source": [
    "![Softmax Function](images/softmax.png \"Softmax function\")"
   ]
  },
  {
   "cell_type": "markdown",
   "metadata": {},
   "source": [
    "A softmax function turns predictions into probabilities, each value is bounded between (0, 1). Our model considers 0.900 and 0.999 as the same but the second prediction is 100 times more confident hence we use log to amplify the domain to (-inf, inf)"
   ]
  },
  {
   "cell_type": "code",
   "execution_count": 20,
   "metadata": {},
   "outputs": [],
   "source": [
    "def softmax(predictions, log=False):\n",
    "    if log:\n",
    "        return torch.log(torch.exp(predictions)/torch.exp(predictions).sum(dim=1, keepdim=True))\n",
    "    return torch.exp(predictions)/torch.exp(predictions).sum(dim=1, keepdim=True)\n",
    "\n",
    "# pytorch equivalent\n",
    "activations_py = F.log_softmax(predictions, dim=1)"
   ]
  },
  {
   "cell_type": "code",
   "execution_count": 21,
   "metadata": {},
   "outputs": [
    {
     "data": {
      "text/plain": [
       "(tensor([0.], grad_fn=<SelectBackward>),\n",
       " tensor([-inf], grad_fn=<SelectBackward>),\n",
       " torch.Size([21964, 1]))"
      ]
     },
     "execution_count": 21,
     "metadata": {},
     "output_type": "execute_result"
    }
   ],
   "source": [
    "# gathers the corresponsing loss according to the label class\n",
    "activations = softmax(predictions, log=True)\n",
    "loss_of_each_image = activations.gather(1, labels.unsqueeze(-1))\n",
    "max(loss_of_each_image), min(loss_of_each_image), loss_of_each_image.shape"
   ]
  },
  {
   "cell_type": "markdown",
   "metadata": {},
   "source": [
    "We can observe a problem here, If we are taking log after softmax we get loss as infinity to avoid that we use `F.log_softmax()` function provided by PyTorch"
   ]
  },
  {
   "cell_type": "code",
   "execution_count": 22,
   "metadata": {},
   "outputs": [
    {
     "name": "stderr",
     "output_type": "stream",
     "text": [
      "<ipython-input-22-6adc8555dfc7>:1: UserWarning: Implicit dimension choice for log_softmax has been deprecated. Change the call to include dim=X as an argument.\n",
      "  torch.log(F.softmax(tensor([62.0, -51.0]), dim=0)), F.log_softmax(tensor([62.0, -51.0]))\n"
     ]
    },
    {
     "data": {
      "text/plain": [
       "(tensor([0., -inf]), tensor([   0., -113.]))"
      ]
     },
     "execution_count": 22,
     "metadata": {},
     "output_type": "execute_result"
    }
   ],
   "source": [
    "torch.log(F.softmax(tensor([62.0, -51.0]), dim=0)), F.log_softmax(tensor([62.0, -51.0]))"
   ]
  },
  {
   "cell_type": "markdown",
   "metadata": {},
   "source": [
    "We now have 25 probabilities corresponding to 25 categories for each image, we select the value according to it class it belongs and take the mean of all the training images to calculate the loss."
   ]
  },
  {
   "cell_type": "code",
   "execution_count": 25,
   "metadata": {},
   "outputs": [
    {
     "data": {
      "text/plain": [
       "tensor([[1],\n",
       "        [5]])"
      ]
     },
     "execution_count": 25,
     "metadata": {},
     "output_type": "execute_result"
    }
   ],
   "source": [
    "# Example:\n",
    "list_of_lists = tensor([[1, 2], [2, 5]])\n",
    "index = tensor([0, 1])\n",
    "list_of_lists.gather(1, index.unsqueeze(-1))"
   ]
  },
  {
   "cell_type": "code",
   "execution_count": 26,
   "metadata": {},
   "outputs": [
    {
     "data": {
      "text/plain": [
       "(tensor(-40.5223, grad_fn=<MeanBackward0>),\n",
       " tensor(-40.5223, grad_fn=<NegBackward>))"
      ]
     },
     "execution_count": 26,
     "metadata": {},
     "output_type": "execute_result"
    }
   ],
   "source": [
    "# gather will select values of each row of activations according to the index specified by labels\n",
    "loss = activations_py.gather(1, labels.unsqueeze(-1)).mean()\n",
    "\n",
    "# pytorch equivalent \n",
    "loss_py = -F.nll_loss(activations_py, labels)\n",
    "\n",
    "loss, loss_py"
   ]
  },
  {
   "cell_type": "code",
   "execution_count": 27,
   "metadata": {},
   "outputs": [
    {
     "data": {
      "text/plain": [
       "(tensor(40.5223, grad_fn=<NegBackward>),\n",
       " tensor(40.5223, grad_fn=<NllLossBackward>))"
      ]
     },
     "execution_count": 27,
     "metadata": {},
     "output_type": "execute_result"
    }
   ],
   "source": [
    "# softmax + log + negative_loss_likelyhood = cross_entropy_loss: this can be used for classification problems\n",
    "def cross_entropy_loss(predictions, labels): \n",
    "    activations = F.log_softmax(predictions, dim=1)\n",
    "    loss = activations.gather(1, labels.unsqueeze(-1)).mean()\n",
    "    return -loss\n",
    "\n",
    "# pytorch equivalent\n",
    "cross_entropy_loss_py = F.cross_entropy(predictions, labels)\n",
    "\n",
    "cross_entropy_loss(predictions, labels), cross_entropy_loss_py"
   ]
  },
  {
   "cell_type": "markdown",
   "metadata": {},
   "source": [
    "### Optimise weights"
   ]
  },
  {
   "cell_type": "code",
   "execution_count": 29,
   "metadata": {},
   "outputs": [],
   "source": [
    "def train_epoch(dataloader, parameters, learning_rate, accuracy_func, loss_func, valid_df, epoch_no):\n",
    "    for image_tensors, labels in dataloader:\n",
    "        weights, bias = parameters\n",
    "        preds = get_predictions(image_tensors, weights, bias)\n",
    "        \n",
    "        loss = cross_entropy_loss(preds, labels)\n",
    "        loss.backward()\n",
    "        \n",
    "        weights.data = weights.data - weights.grad*learning_rate\n",
    "        bias.data -= bias.grad*learning_rate\n",
    "        weights.grad.zero_()\n",
    "        bias.grad.zero_()\n",
    "        \n",
    "    accuracy = accuracy_func(valid_df, (weights, bias))\n",
    "    if epoch_no%5 == 0:\n",
    "        print(f'epoch={epoch_no}; loss={loss}; accuracy={accuracy}')\n",
    "    return weights, bias"
   ]
  },
  {
   "cell_type": "code",
   "execution_count": 30,
   "metadata": {},
   "outputs": [],
   "source": [
    "def train(parameters, no_of_epochs, learning_rate, batch_size):\n",
    "    for i in range(1, no_of_epochs+1):\n",
    "        dl = DataLoader(get_dataset(train_df), batch_size=batch_size)\n",
    "        weights, bias = train_epoch(dl, parameters, learning_rate, accuracy, cross_entropy_loss, valid_df, i)"
   ]
  },
  {
   "cell_type": "code",
   "execution_count": 31,
   "metadata": {},
   "outputs": [
    {
     "name": "stdout",
     "output_type": "stream",
     "text": [
      "epoch=5; loss=7.723250865936279; accuracy=0.05882352963089943\n",
      "epoch=10; loss=6.59684419631958; accuracy=0.07885631173849106\n",
      "epoch=15; loss=5.713827133178711; accuracy=0.10872336477041245\n",
      "epoch=20; loss=5.041042327880859; accuracy=0.13713349401950836\n",
      "epoch=25; loss=4.521183967590332; accuracy=0.1637224555015564\n",
      "epoch=30; loss=4.11172342300415; accuracy=0.18575851619243622\n",
      "epoch=35; loss=3.7844295501708984; accuracy=0.20961573719978333\n",
      "epoch=40; loss=3.5177741050720215; accuracy=0.23383718729019165\n",
      "epoch=45; loss=3.2960424423217773; accuracy=0.2586049735546112\n",
      "epoch=50; loss=3.108018636703491; accuracy=0.28337278962135315\n"
     ]
    }
   ],
   "source": [
    "train(parameters, no_of_epochs=50, learning_rate=1e-1, batch_size=2048)"
   ]
  },
  {
   "cell_type": "markdown",
   "metadata": {},
   "source": [
    "We started with random parameters whos predictions are ~4% after training for 50 epochs I was able to achieve 28% accuracy, lets train for some more epochs"
   ]
  },
  {
   "cell_type": "code",
   "execution_count": 32,
   "metadata": {},
   "outputs": [
    {
     "name": "stdout",
     "output_type": "stream",
     "text": [
      "epoch=5; loss=2.7389485836029053; accuracy=0.3208887279033661\n",
      "epoch=10; loss=2.5074076652526855; accuracy=0.34984520077705383\n",
      "epoch=15; loss=2.3198177814483643; accuracy=0.38025858998298645\n",
      "epoch=20; loss=2.163520574569702; accuracy=0.4079402685165405\n",
      "epoch=25; loss=2.0304787158966064; accuracy=0.43398287892341614\n",
      "epoch=30; loss=1.9153084754943848; accuracy=0.45784008502960205\n",
      "epoch=35; loss=1.8142876625061035; accuracy=0.47532325983047485\n",
      "epoch=40; loss=1.7247360944747925; accuracy=0.49280640482902527\n",
      "epoch=45; loss=1.6446409225463867; accuracy=0.5070114731788635\n",
      "epoch=50; loss=1.5724561214447021; accuracy=0.520852267742157\n"
     ]
    }
   ],
   "source": [
    "train(parameters, no_of_epochs=50, learning_rate=1e-1, batch_size=1024)"
   ]
  },
  {
   "cell_type": "markdown",
   "metadata": {},
   "source": [
    "I'm trying to play with batch_size and learning rates to see how they effect the traning speed"
   ]
  },
  {
   "cell_type": "code",
   "execution_count": 33,
   "metadata": {},
   "outputs": [
    {
     "name": "stdout",
     "output_type": "stream",
     "text": [
      "epoch=5; loss=1.4595612287521362; accuracy=0.5585503578186035\n",
      "epoch=10; loss=1.2876158952713013; accuracy=0.6040793657302856\n",
      "epoch=15; loss=1.157658576965332; accuracy=0.6421416997909546\n",
      "epoch=20; loss=1.0544577836990356; accuracy=0.6709160208702087\n",
      "epoch=25; loss=0.9689654111862183; accuracy=0.6958659291267395\n",
      "epoch=30; loss=0.8959687352180481; accuracy=0.7175377607345581\n",
      "epoch=35; loss=0.8325452208518982; accuracy=0.741030752658844\n",
      "epoch=40; loss=0.7769091725349426; accuracy=0.7576033473014832\n",
      "epoch=45; loss=0.7277417778968811; accuracy=0.7723547220230103\n",
      "epoch=50; loss=0.6839793920516968; accuracy=0.788563072681427\n"
     ]
    }
   ],
   "source": [
    "train(parameters, no_of_epochs=50, learning_rate=2e-1, batch_size=512)"
   ]
  },
  {
   "cell_type": "markdown",
   "metadata": {},
   "source": [
    "Bumping up the learning rate indeed improved the optimisation speed, let train for some more epochs"
   ]
  },
  {
   "cell_type": "code",
   "execution_count": 34,
   "metadata": {},
   "outputs": [
    {
     "name": "stdout",
     "output_type": "stream",
     "text": [
      "epoch=5; loss=0.6447545886039734; accuracy=0.8027681708335876\n",
      "epoch=10; loss=0.6093621253967285; accuracy=0.8149699568748474\n",
      "epoch=15; loss=0.577233076095581; accuracy=0.8229830265045166\n",
      "epoch=20; loss=0.5479092597961426; accuracy=0.8319067358970642\n",
      "epoch=25; loss=0.5210235714912415; accuracy=0.8402841091156006\n",
      "epoch=30; loss=0.49628016352653503; accuracy=0.8466581702232361\n",
      "epoch=35; loss=0.4734363555908203; accuracy=0.8553997278213501\n",
      "epoch=40; loss=0.45229026675224304; accuracy=0.8639591932296753\n",
      "epoch=45; loss=0.4326697885990143; accuracy=0.8721544146537781\n",
      "epoch=50; loss=0.4144253730773926; accuracy=0.880167543888092\n"
     ]
    }
   ],
   "source": [
    "train(parameters, no_of_epochs=50, learning_rate=2e-1, batch_size=512)"
   ]
  },
  {
   "cell_type": "markdown",
   "metadata": {},
   "source": [
    "Lets try with a larger batch size and learning rate, maybe it generalises well?"
   ]
  },
  {
   "cell_type": "code",
   "execution_count": 35,
   "metadata": {},
   "outputs": [
    {
     "name": "stdout",
     "output_type": "stream",
     "text": [
      "epoch=5; loss=0.45226046442985535; accuracy=0.8226187825202942\n",
      "epoch=10; loss=0.41609740257263184; accuracy=0.8228009343147278\n",
      "epoch=15; loss=0.4397861361503601; accuracy=0.8209797739982605\n",
      "epoch=20; loss=0.4218664765357971; accuracy=0.827353835105896\n",
      "epoch=25; loss=0.42012253403663635; accuracy=0.8288107514381409\n",
      "epoch=30; loss=0.40878626704216003; accuracy=0.8324530720710754\n",
      "epoch=35; loss=0.3948947787284851; accuracy=0.8741576671600342\n",
      "epoch=40; loss=0.39441171288490295; accuracy=0.8421052694320679\n",
      "epoch=45; loss=0.3591289520263672; accuracy=0.8845382928848267\n",
      "epoch=50; loss=0.3269328773021698; accuracy=0.8943725824356079\n"
     ]
    }
   ],
   "source": [
    "train(parameters, no_of_epochs=50, learning_rate=3e-1, batch_size=1024)"
   ]
  },
  {
   "cell_type": "code",
   "execution_count": 36,
   "metadata": {},
   "outputs": [
    {
     "name": "stdout",
     "output_type": "stream",
     "text": [
      "epoch=5; loss=0.2853115499019623; accuracy=0.9286104440689087\n",
      "epoch=10; loss=0.2771397829055786; accuracy=0.9318885207176208\n",
      "epoch=15; loss=0.26912689208984375; accuracy=0.9358950853347778\n",
      "epoch=20; loss=0.26137667894363403; accuracy=0.93917316198349\n",
      "epoch=25; loss=0.25392618775367737; accuracy=0.9429976344108582\n",
      "epoch=30; loss=0.2467852532863617; accuracy=0.9462757110595703\n",
      "epoch=35; loss=0.23995234072208405; accuracy=0.9501001238822937\n",
      "epoch=40; loss=0.2334199845790863; accuracy=0.9513749480247498\n",
      "epoch=45; loss=0.227177232503891; accuracy=0.9535603523254395\n",
      "epoch=50; loss=0.22121219336986542; accuracy=0.957202672958374\n"
     ]
    }
   ],
   "source": [
    "train(parameters, no_of_epochs=50, learning_rate=2e-1, batch_size=512)"
   ]
  },
  {
   "cell_type": "markdown",
   "metadata": {},
   "source": [
    "As we are now a bit above 95% accuracy, let try to take smaller steps to prevent overshooting"
   ]
  },
  {
   "cell_type": "code",
   "execution_count": 37,
   "metadata": {},
   "outputs": [
    {
     "name": "stdout",
     "output_type": "stream",
     "text": [
      "epoch=5; loss=0.21588782966136932; accuracy=0.9579311609268188\n",
      "epoch=10; loss=0.21408985555171967; accuracy=0.9582953453063965\n",
      "epoch=15; loss=0.21236322820186615; accuracy=0.9584774971008301\n",
      "epoch=20; loss=0.21069581806659698; accuracy=0.9588417410850525\n",
      "epoch=25; loss=0.20907911658287048; accuracy=0.9595701694488525\n",
      "epoch=30; loss=0.2075067162513733; accuracy=0.9595701694488525\n",
      "epoch=35; loss=0.20597346127033234; accuracy=0.9601165056228638\n",
      "epoch=40; loss=0.20447543263435364; accuracy=0.9610270857810974\n",
      "epoch=45; loss=0.20300959050655365; accuracy=0.9615734815597534\n",
      "epoch=50; loss=0.20157337188720703; accuracy=0.9623019099235535\n"
     ]
    }
   ],
   "source": [
    "train(parameters, no_of_epochs=50, learning_rate=1e-1, batch_size=1024)"
   ]
  },
  {
   "cell_type": "markdown",
   "metadata": {},
   "source": [
    "Can we get more out the single layer NN?"
   ]
  },
  {
   "cell_type": "code",
   "execution_count": 38,
   "metadata": {},
   "outputs": [
    {
     "name": "stdout",
     "output_type": "stream",
     "text": [
      "epoch=5; loss=0.20638421177864075; accuracy=0.9641230702400208\n",
      "epoch=10; loss=0.20571450889110565; accuracy=0.9641230702400208\n",
      "epoch=15; loss=0.20504949986934662; accuracy=0.9641230702400208\n",
      "epoch=20; loss=0.2043890506029129; accuracy=0.9646694660186768\n",
      "epoch=25; loss=0.20373308658599854; accuracy=0.9650336503982544\n",
      "epoch=30; loss=0.20308151841163635; accuracy=0.9653978943824768\n",
      "epoch=35; loss=0.20243410766124725; accuracy=0.9655800461769104\n",
      "epoch=40; loss=0.20179085433483124; accuracy=0.9655800461769104\n",
      "epoch=45; loss=0.2011517584323883; accuracy=0.965944230556488\n",
      "epoch=50; loss=0.2005166858434677; accuracy=0.965944230556488\n"
     ]
    }
   ],
   "source": [
    "train(parameters, no_of_epochs=50, learning_rate=1e-1, batch_size=2048)"
   ]
  },
  {
   "cell_type": "code",
   "execution_count": 39,
   "metadata": {},
   "outputs": [
    {
     "name": "stdout",
     "output_type": "stream",
     "text": [
      "epoch=5; loss=0.21264278888702393; accuracy=0.9639409780502319\n",
      "epoch=10; loss=0.20781667530536652; accuracy=0.9661263823509216\n",
      "epoch=15; loss=0.2031080722808838; accuracy=0.9674012064933777\n",
      "epoch=20; loss=0.1985561102628708; accuracy=0.9688581228256226\n",
      "epoch=25; loss=0.19416968524456024; accuracy=0.9703150391578674\n",
      "epoch=30; loss=0.1899484097957611; accuracy=0.9723182916641235\n",
      "epoch=35; loss=0.1858879029750824; accuracy=0.9750500321388245\n",
      "epoch=40; loss=0.18198280036449432; accuracy=0.9768711924552917\n",
      "epoch=45; loss=0.17822673916816711; accuracy=0.9781460165977478\n",
      "epoch=50; loss=0.17461314797401428; accuracy=0.9797850847244263\n"
     ]
    }
   ],
   "source": [
    "train(parameters, no_of_epochs=50, learning_rate=1e-1, batch_size=256)"
   ]
  },
  {
   "cell_type": "markdown",
   "metadata": {},
   "source": [
    "Seems to me that having lower batch size is better? "
   ]
  },
  {
   "cell_type": "code",
   "execution_count": 40,
   "metadata": {},
   "outputs": [
    {
     "name": "stdout",
     "output_type": "stream",
     "text": [
      "epoch=5; loss=0.1711360067129135; accuracy=0.9810599088668823\n",
      "epoch=10; loss=0.16778911650180817; accuracy=0.9825168251991272\n",
      "epoch=15; loss=0.1645662933588028; accuracy=0.9836094975471497\n",
      "epoch=20; loss=0.1614619493484497; accuracy=0.9845200777053833\n",
      "epoch=25; loss=0.15847033262252808; accuracy=0.9852485656738281\n",
      "epoch=30; loss=0.1555863618850708; accuracy=0.9865233898162842\n",
      "epoch=35; loss=0.1528049111366272; accuracy=0.9872518181800842\n",
      "epoch=40; loss=0.15012092888355255; accuracy=0.9874339699745178\n",
      "epoch=45; loss=0.14753028750419617; accuracy=0.9885266423225403\n",
      "epoch=50; loss=0.14502808451652527; accuracy=0.9892551302909851\n"
     ]
    }
   ],
   "source": [
    "train(parameters, no_of_epochs=50, learning_rate=1e-1, batch_size=256)"
   ]
  },
  {
   "cell_type": "markdown",
   "metadata": {},
   "source": [
    "I never assumed we could get 98.9% accurate model with just 1 layer, lets test the accuracy with test data"
   ]
  },
  {
   "cell_type": "code",
   "execution_count": 42,
   "metadata": {},
   "outputs": [
    {
     "data": {
      "text/plain": [
       "tensor(0.9893)"
      ]
     },
     "execution_count": 42,
     "metadata": {},
     "output_type": "execute_result"
    }
   ],
   "source": [
    "accuracy(test_df, (weights, bias))"
   ]
  },
  {
   "cell_type": "code",
   "execution_count": 43,
   "metadata": {},
   "outputs": [
    {
     "name": "stdout",
     "output_type": "stream",
     "text": [
      "epoch=5; loss=0.14261044561862946; accuracy=0.9901657104492188\n",
      "epoch=10; loss=0.14027352631092072; accuracy=0.9905299544334412\n",
      "epoch=15; loss=0.13801345229148865; accuracy=0.9908941388130188\n",
      "epoch=20; loss=0.1358269453048706; accuracy=0.9910762906074524\n",
      "epoch=25; loss=0.13371039927005768; accuracy=0.9912583827972412\n",
      "epoch=30; loss=0.13166065514087677; accuracy=0.9914405345916748\n",
      "epoch=35; loss=0.12967489659786224; accuracy=0.9923511147499084\n",
      "epoch=40; loss=0.12775032222270966; accuracy=0.9925332069396973\n",
      "epoch=45; loss=0.12588419020175934; accuracy=0.9928974509239197\n",
      "epoch=50; loss=0.12407400459051132; accuracy=0.9938080310821533\n"
     ]
    }
   ],
   "source": [
    "train(parameters, no_of_epochs=50, learning_rate=1e-1, batch_size=256)"
   ]
  },
  {
   "cell_type": "code",
   "execution_count": 44,
   "metadata": {},
   "outputs": [
    {
     "name": "stdout",
     "output_type": "stream",
     "text": [
      "epoch=5; loss=0.11372235417366028; accuracy=0.9952649474143982\n",
      "epoch=10; loss=0.11295342445373535; accuracy=0.9954470992088318\n",
      "epoch=15; loss=0.11219793558120728; accuracy=0.9956291913986206\n",
      "epoch=20; loss=0.11145418137311935; accuracy=0.9958112835884094\n",
      "epoch=25; loss=0.11072102189064026; accuracy=0.995993435382843\n",
      "epoch=30; loss=0.10999791324138641; accuracy=0.995993435382843\n",
      "epoch=35; loss=0.10928422957658768; accuracy=0.995993435382843\n",
      "epoch=40; loss=0.10857987403869629; accuracy=0.9961755275726318\n",
      "epoch=45; loss=0.10788467526435852; accuracy=0.9961755275726318\n",
      "epoch=50; loss=0.10719814896583557; accuracy=0.9963576793670654\n"
     ]
    }
   ],
   "source": [
    "train(parameters, no_of_epochs=50, learning_rate=1e-1, batch_size=512)"
   ]
  },
  {
   "cell_type": "code",
   "execution_count": 45,
   "metadata": {},
   "outputs": [
    {
     "data": {
      "text/plain": [
       "tensor(0.9964)"
      ]
     },
     "execution_count": 45,
     "metadata": {},
     "output_type": "execute_result"
    }
   ],
   "source": [
    "accuracy(test_df, (weights, bias))"
   ]
  },
  {
   "cell_type": "markdown",
   "metadata": {},
   "source": [
    "Yea! its around 99.6% accurate. I still tried to train for more epochs but seemed to overfit (loss imporves but the accuracy decreases)"
   ]
  },
  {
   "cell_type": "code",
   "execution_count": null,
   "metadata": {},
   "outputs": [],
   "source": []
  }
 ],
 "metadata": {
  "environment": {
   "name": "pytorch-gpu.1-4.m50",
   "type": "gcloud",
   "uri": "gcr.io/deeplearning-platform-release/pytorch-gpu.1-4:m50"
  },
  "kernelspec": {
   "display_name": "Python 3",
   "language": "python",
   "name": "python3"
  },
  "language_info": {
   "codemirror_mode": {
    "name": "ipython",
    "version": 3
   },
   "file_extension": ".py",
   "mimetype": "text/x-python",
   "name": "python",
   "nbconvert_exporter": "python",
   "pygments_lexer": "ipython3",
   "version": "3.8.5"
  }
 },
 "nbformat": 4,
 "nbformat_minor": 4
}
