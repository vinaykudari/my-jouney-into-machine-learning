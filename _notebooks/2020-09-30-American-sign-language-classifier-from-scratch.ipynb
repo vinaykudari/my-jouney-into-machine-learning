{
 "cells": [
  {
   "cell_type": "markdown",
   "metadata": {},
   "source": [
    "# \"American sign language classifier from scratch\"\n",
    "\n",
    "- toc: false\n",
    "- branch: master\n",
    "- badges: true\n",
    "- comments: true\n",
    "- categories: [classifier, scratch, vision]\n",
    "- hide: false\n",
    "- search_exclude: true\n",
    "- metadata_key1: metadata_value1\n",
    "- metadata_key2: metadata_value2"
   ]
  },
  {
   "cell_type": "code",
   "execution_count": 1,
   "metadata": {},
   "outputs": [],
   "source": [
    "from fastai.vision.all import *\n",
    "import pandas as pd\n",
    "from os import path\n",
    "# torch.cuda.set_device(0)\n",
    "# torch.set_default_tensor_type('torch.cuda.FloatTensor')"
   ]
  },
  {
   "cell_type": "code",
   "execution_count": 2,
   "metadata": {},
   "outputs": [
    {
     "data": {
      "text/plain": [
       "((21964, 785), (5491, 785), (7172, 785))"
      ]
     },
     "execution_count": 2,
     "metadata": {},
     "output_type": "execute_result"
    }
   ],
   "source": [
    "# if path.exists('/storage'):\n",
    "#     # Paperspace\n",
    "#     train_df = pd.read_csv('/storage/data/asl/sign_mnist_train.csv')\n",
    "#     test_df = pd.read_csv('/storage/data/asl/sign_mnist_test.csv')\n",
    "# else:\n",
    "#     # GCP\n",
    "#     train_df = pd.read_csv('/home/jupyter/datasets/asl/sign_mnist_train.csv')\n",
    "#     test_df = pd.read_csv('/home/jupyter/datasets/asl/sign_mnist_test.csv') \n",
    "\n",
    "# Randomly select 20% of training data as validation data\n",
    "valid_df = train_df.sample(frac=0.2)\n",
    "train_df = train_df.drop(valid_df.index)\n",
    "\n",
    "train_df.shape, valid_df.shape, test_df.shape"
   ]
  },
  {
   "cell_type": "code",
   "execution_count": 3,
   "metadata": {},
   "outputs": [
    {
     "data": {
      "text/html": [
       "<div>\n",
       "<style scoped>\n",
       "    .dataframe tbody tr th:only-of-type {\n",
       "        vertical-align: middle;\n",
       "    }\n",
       "\n",
       "    .dataframe tbody tr th {\n",
       "        vertical-align: top;\n",
       "    }\n",
       "\n",
       "    .dataframe thead th {\n",
       "        text-align: right;\n",
       "    }\n",
       "</style>\n",
       "<table border=\"1\" class=\"dataframe\">\n",
       "  <thead>\n",
       "    <tr style=\"text-align: right;\">\n",
       "      <th></th>\n",
       "      <th>label</th>\n",
       "      <th>pixel1</th>\n",
       "      <th>pixel2</th>\n",
       "      <th>pixel3</th>\n",
       "      <th>pixel4</th>\n",
       "      <th>pixel5</th>\n",
       "      <th>pixel6</th>\n",
       "      <th>pixel7</th>\n",
       "      <th>pixel8</th>\n",
       "      <th>pixel9</th>\n",
       "      <th>...</th>\n",
       "      <th>pixel775</th>\n",
       "      <th>pixel776</th>\n",
       "      <th>pixel777</th>\n",
       "      <th>pixel778</th>\n",
       "      <th>pixel779</th>\n",
       "      <th>pixel780</th>\n",
       "      <th>pixel781</th>\n",
       "      <th>pixel782</th>\n",
       "      <th>pixel783</th>\n",
       "      <th>pixel784</th>\n",
       "    </tr>\n",
       "  </thead>\n",
       "  <tbody>\n",
       "    <tr>\n",
       "      <th>0</th>\n",
       "      <td>3</td>\n",
       "      <td>107</td>\n",
       "      <td>118</td>\n",
       "      <td>127</td>\n",
       "      <td>134</td>\n",
       "      <td>139</td>\n",
       "      <td>143</td>\n",
       "      <td>146</td>\n",
       "      <td>150</td>\n",
       "      <td>153</td>\n",
       "      <td>...</td>\n",
       "      <td>207</td>\n",
       "      <td>207</td>\n",
       "      <td>207</td>\n",
       "      <td>207</td>\n",
       "      <td>206</td>\n",
       "      <td>206</td>\n",
       "      <td>206</td>\n",
       "      <td>204</td>\n",
       "      <td>203</td>\n",
       "      <td>202</td>\n",
       "    </tr>\n",
       "    <tr>\n",
       "      <th>1</th>\n",
       "      <td>6</td>\n",
       "      <td>155</td>\n",
       "      <td>157</td>\n",
       "      <td>156</td>\n",
       "      <td>156</td>\n",
       "      <td>156</td>\n",
       "      <td>157</td>\n",
       "      <td>156</td>\n",
       "      <td>158</td>\n",
       "      <td>158</td>\n",
       "      <td>...</td>\n",
       "      <td>69</td>\n",
       "      <td>149</td>\n",
       "      <td>128</td>\n",
       "      <td>87</td>\n",
       "      <td>94</td>\n",
       "      <td>163</td>\n",
       "      <td>175</td>\n",
       "      <td>103</td>\n",
       "      <td>135</td>\n",
       "      <td>149</td>\n",
       "    </tr>\n",
       "  </tbody>\n",
       "</table>\n",
       "<p>2 rows × 785 columns</p>\n",
       "</div>"
      ],
      "text/plain": [
       "   label  pixel1  pixel2  pixel3  pixel4  pixel5  pixel6  pixel7  pixel8  \\\n",
       "0      3     107     118     127     134     139     143     146     150   \n",
       "1      6     155     157     156     156     156     157     156     158   \n",
       "\n",
       "   pixel9  ...  pixel775  pixel776  pixel777  pixel778  pixel779  pixel780  \\\n",
       "0     153  ...       207       207       207       207       206       206   \n",
       "1     158  ...        69       149       128        87        94       163   \n",
       "\n",
       "   pixel781  pixel782  pixel783  pixel784  \n",
       "0       206       204       203       202  \n",
       "1       175       103       135       149  \n",
       "\n",
       "[2 rows x 785 columns]"
      ]
     },
     "execution_count": 3,
     "metadata": {},
     "output_type": "execute_result"
    }
   ],
   "source": [
    "train_df.head(2)"
   ]
  },
  {
   "cell_type": "markdown",
   "metadata": {},
   "source": [
    "We have our training images in a dataframe where 1st value is the label and next 784 values are pixel intensities"
   ]
  },
  {
   "cell_type": "code",
   "execution_count": 4,
   "metadata": {},
   "outputs": [],
   "source": [
    "# Select all the labels\n",
    "def get_labels(df):\n",
    "    return tensor(df.iloc[:, 0].values).to('cuda')\n",
    "\n",
    "# Select all the pixel intensities and convert into a 1-D tensor of values between 0 to 1\n",
    "def get_image_tensors(df):\n",
    "    return torch.stack([tensor(image_array)/255. for image_array in df.iloc[:, 1:].values]).to('cuda')\n",
    "\n",
    "def get_dataset(df):\n",
    "    return zip(get_image_tensors(df), get_labels(df))"
   ]
  },
  {
   "cell_type": "code",
   "execution_count": 5,
   "metadata": {},
   "outputs": [
    {
     "name": "stdout",
     "output_type": "stream",
     "text": [
      "tensor(3, device='cuda:0')\n",
      "tensor(6, device='cuda:0')\n"
     ]
    },
    {
     "data": {
      "image/png": "[encoded data removed]",
      "text/plain": [
       "<Figure size 72x72 with 1 Axes>"
      ]
     },
     "metadata": {
      "needs_background": "light"
     },
     "output_type": "display_data"
    },
    {
     "data": {
      "image/png": "[encoded data removed]",
      "text/plain": [
       "<Figure size 72x72 with 1 Axes>"
      ]
     },
     "metadata": {
      "needs_background": "light"
     },
     "output_type": "display_data"
    }
   ],
   "source": [
    "dataset = get_dataset(train_df)\n",
    "labels = get_labels(train_df)\n",
    "\n",
    "for image_tensor, label in list(dataset)[:2]:\n",
    "    print(label)\n",
    "    show_image(torch.reshape(image_tensor, (28, 28)), cmap='gray')"
   ]
  },
  {
   "cell_type": "markdown",
   "metadata": {},
   "source": [
    "### Initialize weights"
   ]
  },
  {
   "cell_type": "code",
   "execution_count": 6,
   "metadata": {},
   "outputs": [],
   "source": [
    "# Generate random weights between -1 and 1 and mark them to calculate gradient\n",
    "def get_random_weights(rows, cols):\n",
    "    return torch.randn(rows, cols).to('cuda').requires_grad_()"
   ]
  },
  {
   "cell_type": "code",
   "execution_count": 7,
   "metadata": {},
   "outputs": [
    {
     "data": {
      "text/plain": [
       "(torch.Size([784, 25]), torch.Size([1, 25]))"
      ]
     },
     "execution_count": 7,
     "metadata": {},
     "output_type": "execute_result"
    }
   ],
   "source": [
    "weights = get_random_weights(28*28, len(train_df.label.unique())+1)\n",
    "bias = get_random_weights(1, len(train_df.label.unique())+1)\n",
    "parameters = (weights, bias)\n",
    "\n",
    "weights.shape, bias.shape"
   ]
  },
  {
   "cell_type": "markdown",
   "metadata": {},
   "source": [
    "### Get Predictions "
   ]
  },
  {
   "cell_type": "code",
   "execution_count": 7,
   "metadata": {},
   "outputs": [
    {
     "data": {
      "text/plain": [
       "(torch.Size([21964, 784]), torch.Size([784, 25]))"
      ]
     },
     "execution_count": 7,
     "metadata": {},
     "output_type": "execute_result"
    }
   ],
   "source": [
    "image_tensors = get_image_tensors(train_df)\n",
    "image_tensors.shape, weights.shape"
   ]
  },
  {
   "cell_type": "code",
   "execution_count": 96,
   "metadata": {},
   "outputs": [],
   "source": [
    "def get_predictions(image_tensors, weights, bias):\n",
    "    return image_tensors@weights + bias"
   ]
  },
  {
   "cell_type": "code",
   "execution_count": 97,
   "metadata": {},
   "outputs": [
    {
     "data": {
      "text/plain": [
       "torch.Size([21964, 25])"
      ]
     },
     "execution_count": 97,
     "metadata": {},
     "output_type": "execute_result"
    }
   ],
   "source": [
    "predictions = get_predictions(image_tensors, weights, bias)\n",
    "predictions.shape"
   ]
  },
  {
   "cell_type": "markdown",
   "metadata": {},
   "source": [
    "Accuracy with random weights"
   ]
  },
  {
   "cell_type": "code",
   "execution_count": 10,
   "metadata": {},
   "outputs": [
    {
     "data": {
      "text/plain": [
       "tensor(0.0419, device='cuda:0')"
      ]
     },
     "execution_count": 10,
     "metadata": {},
     "output_type": "execute_result"
    }
   ],
   "source": [
    "def accuracy(df, parameters):\n",
    "    weights, bias = parameters\n",
    "    test_image_tensors, test_labels = get_image_tensors(valid_df), get_labels(valid_df)\n",
    "    test_preds = get_predictions(test_image_tensors, weights, bias)\n",
    "    pred_classes = torch.argmax(test_preds, dim=1)\n",
    "    return (pred_classes == test_labels).float().mean() \n",
    "\n",
    "accuracy(valid_df, parameters)\n",
    "# Random weights are ~5% accurate"
   ]
  },
  {
   "cell_type": "markdown",
   "metadata": {},
   "source": [
    "### Calculate loss"
   ]
  },
  {
   "cell_type": "markdown",
   "metadata": {},
   "source": [
    "As softmax function turns predictions into probabilities, each activation is bounded between (0, 1) hence our model considers 0.900 and 0.999 as the same but the second prediction is 100 times more confident hence we use log to amplify the domain to (-inf, inf)"
   ]
  },
  {
   "cell_type": "code",
   "execution_count": 40,
   "metadata": {},
   "outputs": [
    {
     "data": {
      "text/plain": [
       "(tensor(10.7700, device='cuda:0', grad_fn=<SelectBackward>),\n",
       " tensor(1.6697e-11, device='cuda:0', grad_fn=<SelectBackward>),\n",
       " tensor(-24.8158, device='cuda:0', grad_fn=<SelectBackward>),\n",
       " tensor(-24.8158, device='cuda:0', grad_fn=<SelectBackward>))"
      ]
     },
     "execution_count": 40,
     "metadata": {},
     "output_type": "execute_result"
    }
   ],
   "source": [
    "def softmax(predictions, log=False):\n",
    "    if log:\n",
    "        return torch.log(torch.exp(predictions)/torch.exp(predictions).sum(dim=1, keepdim=True))\n",
    "    return torch.exp(predictions)/torch.exp(predictions).sum(dim=1, keepdim=True)\n",
    "\n",
    "# pytorch equivalent\n",
    "activations_py = F.log_softmax(predictions, dim=1)\n",
    "\n",
    "predictions[0][0], softmax(predictions)[0][0], softmax(predictions, log=True)[0][0], activations_py[0][0]"
   ]
  },
  {
   "cell_type": "code",
   "execution_count": 12,
   "metadata": {},
   "outputs": [
    {
     "data": {
      "text/plain": [
       "(tensor([0.], device='cuda:0', grad_fn=<SelectBackward>),\n",
       " tensor([-inf], device='cuda:0', grad_fn=<SelectBackward>),\n",
       " torch.Size([21964, 1]))"
      ]
     },
     "execution_count": 12,
     "metadata": {},
     "output_type": "execute_result"
    }
   ],
   "source": [
    "# gathers the corresponsing loss according to the label class\n",
    "loss_of_each_image = activations.gather(1, labels.unsqueeze(-1))\n",
    "max(loss_of_each_image), min(loss_of_each_image), loss_of_each_image.shape"
   ]
  },
  {
   "cell_type": "markdown",
   "metadata": {},
   "source": [
    "There is a problem with applying log after softmax function, hence we use F.log_softmax() function provided by PyTorch"
   ]
  },
  {
   "cell_type": "code",
   "execution_count": 47,
   "metadata": {},
   "outputs": [
    {
     "name": "stderr",
     "output_type": "stream",
     "text": [
      "<ipython-input-47-6adc8555dfc7>:1: UserWarning: Implicit dimension choice for log_softmax has been deprecated. Change the call to include dim=X as an argument.\n",
      "  torch.log(F.softmax(tensor([62.0, -51.0]), dim=0)), F.log_softmax(tensor([62.0, -51.0]))\n"
     ]
    },
    {
     "data": {
      "text/plain": [
       "(tensor([0., -inf]), tensor([   0., -113.]))"
      ]
     },
     "execution_count": 47,
     "metadata": {},
     "output_type": "execute_result"
    }
   ],
   "source": [
    "torch.log(F.softmax(tensor([62.0, -51.0]), dim=0)), F.log_softmax(tensor([62.0, -51.0]))a"
   ]
  },
  {
   "cell_type": "code",
   "execution_count": 52,
   "metadata": {},
   "outputs": [
    {
     "data": {
      "text/plain": [
       "(tensor(-37.4764, device='cuda:0', grad_fn=<MeanBackward0>),\n",
       " tensor(-37.4764, device='cuda:0', grad_fn=<NegBackward>))"
      ]
     },
     "execution_count": 52,
     "metadata": {},
     "output_type": "execute_result"
    }
   ],
   "source": [
    "loss = activations_py.gather(1, labels.unsqueeze(-1)).mean()\n",
    "\n",
    "# pytorch equivalent \n",
    "loss_py = -F.nll_loss(activations_py, labels)\n",
    "\n",
    "loss, loss_py"
   ]
  },
  {
   "cell_type": "code",
   "execution_count": 63,
   "metadata": {},
   "outputs": [
    {
     "data": {
      "text/plain": [
       "(tensor(37.4764, device='cuda:0', grad_fn=<NegBackward>),\n",
       " tensor(37.4764, device='cuda:0', grad_fn=<NllLossBackward>))"
      ]
     },
     "execution_count": 63,
     "metadata": {},
     "output_type": "execute_result"
    }
   ],
   "source": [
    "# softmax + log + negative_loss_likelyhood = cross_entropy_loss: this can be used for classification problems\n",
    "def cross_entropy_loss(predictions, labels): \n",
    "    activations = F.log_softmax(predictions, dim=1)\n",
    "    loss = activations.gather(1, labels.unsqueeze(-1)).mean()\n",
    "    return -loss\n",
    "\n",
    "# pytorch equivalent\n",
    "cross_entropy_loss_py = F.cross_entropy(predictions, labels)\n",
    "\n",
    "cross_entropy_loss(predictions, labels), cross_entropy_loss_py"
   ]
  },
  {
   "cell_type": "markdown",
   "metadata": {},
   "source": [
    "### Optimise weights"
   ]
  },
  {
   "cell_type": "code",
   "execution_count": 77,
   "metadata": {},
   "outputs": [],
   "source": [
    "def train_epoch(dataloader, parameters, learning_rate, accuracy_func, valid_df, epoch_no):\n",
    "    for image_tensors, labels in dataloader:\n",
    "        weights, bias = parameters\n",
    "        preds = get_predictions(image_tensors, weights, bias)\n",
    "        \n",
    "        loss = cross_entropy_loss(preds, labels)\n",
    "        loss.backward()\n",
    "        \n",
    "        weights.data = weights.data - weights.grad*learning_rate\n",
    "        bias.data -= bias.grad*learning_rate\n",
    "        weights.grad.zero_()\n",
    "        bias.grad.zero_()\n",
    "        \n",
    "    accuracy = accuracy_func(valid_df, (weights, bias))\n",
    "    if epoch_no%5 == 0:\n",
    "        print(f'epoch={epoch_no}; loss={loss}; accuracy={accuracy}')\n",
    "    return weights, bias"
   ]
  },
  {
   "cell_type": "code",
   "execution_count": 80,
   "metadata": {},
   "outputs": [],
   "source": [
    "def train(parameters, no_of_epochs, learning_rate, batch_size):\n",
    "    for i in range(1, no_of_epochs+1):\n",
    "        dl = DataLoader(get_dataset(train_df), batch_size=batch_size)\n",
    "        weights, bias = train_epoch(dl, parameters, learning_rate, accuracy, valid_df, i)"
   ]
  },
  {
   "cell_type": "code",
   "execution_count": 81,
   "metadata": {},
   "outputs": [
    {
     "name": "stdout",
     "output_type": "stream",
     "text": [
      "epoch=5; loss=2.197233200073242; accuracy=0.3982881009578705\n",
      "epoch=10; loss=2.051445722579956; accuracy=0.4283372759819031\n",
      "epoch=15; loss=1.9267258644104004; accuracy=0.45346930623054504\n",
      "epoch=20; loss=1.8183813095092773; accuracy=0.4744126498699188\n",
      "epoch=25; loss=1.7231673002243042; accuracy=0.4929885268211365\n",
      "epoch=30; loss=1.6387637853622437; accuracy=0.5155709385871887\n",
      "epoch=35; loss=1.5634348392486572; accuracy=0.5310508012771606\n",
      "epoch=40; loss=1.4958091974258423; accuracy=0.5439810752868652\n",
      "epoch=45; loss=1.4347560405731201; accuracy=0.5543616414070129\n",
      "epoch=50; loss=1.3793251514434814; accuracy=0.5654707551002502\n"
     ]
    }
   ],
   "source": [
    "train(parameters, no_of_epochs=50, learning_rate=1e-1, batch_size=1024)"
   ]
  },
  {
   "cell_type": "code",
   "execution_count": 83,
   "metadata": {},
   "outputs": [
    {
     "name": "stdout",
     "output_type": "stream",
     "text": [
      "epoch=5; loss=1.332802176475525; accuracy=0.5784010291099548\n",
      "epoch=10; loss=1.3075464963912964; accuracy=0.5838645100593567\n",
      "epoch=15; loss=1.2833633422851562; accuracy=0.5895100831985474\n",
      "epoch=20; loss=1.260180950164795; accuracy=0.5953378081321716\n",
      "epoch=25; loss=1.2379337549209595; accuracy=0.6015297770500183\n",
      "epoch=30; loss=1.2165626287460327; accuracy=0.6057184338569641\n",
      "epoch=35; loss=1.1960129737854004; accuracy=0.6106355786323547\n",
      "epoch=40; loss=1.1762347221374512; accuracy=0.6184665560722351\n",
      "epoch=45; loss=1.1571820974349976; accuracy=0.6224731206893921\n",
      "epoch=50; loss=1.1388126611709595; accuracy=0.6277545094490051\n"
     ]
    }
   ],
   "source": [
    "train(parameters, no_of_epochs=50, learning_rate=1e-1, batch_size=2048)"
   ]
  },
  {
   "cell_type": "markdown",
   "metadata": {},
   "source": [
    "If the learning seems to be slow we can increase the learning rate"
   ]
  },
  {
   "cell_type": "code",
   "execution_count": 84,
   "metadata": {},
   "outputs": [
    {
     "name": "stdout",
     "output_type": "stream",
     "text": [
      "epoch=5; loss=1.210028886795044; accuracy=0.6099070906639099\n",
      "epoch=10; loss=1.389617681503296; accuracy=0.6073575019836426\n",
      "epoch=15; loss=1.1752502918243408; accuracy=0.6150063872337341\n",
      "epoch=20; loss=1.1438595056533813; accuracy=0.6357675790786743\n",
      "epoch=25; loss=1.0695892572402954; accuracy=0.6654525399208069\n",
      "epoch=30; loss=1.1350699663162231; accuracy=0.6567109823226929\n",
      "epoch=35; loss=1.1996654272079468; accuracy=0.6572573184967041\n",
      "epoch=40; loss=1.0542986392974854; accuracy=0.6873064637184143\n",
      "epoch=45; loss=0.891987144947052; accuracy=0.7131670117378235\n",
      "epoch=50; loss=0.9970915913581848; accuracy=0.689491868019104\n"
     ]
    }
   ],
   "source": [
    "train(parameters, no_of_epochs=50, learning_rate=3e-1, batch_size=2048)"
   ]
  },
  {
   "cell_type": "code",
   "execution_count": 86,
   "metadata": {},
   "outputs": [
    {
     "name": "stdout",
     "output_type": "stream",
     "text": [
      "epoch=5; loss=0.5388020277023315; accuracy=0.8198870420455933\n",
      "epoch=10; loss=0.4986553192138672; accuracy=0.8228009343147278\n",
      "epoch=15; loss=0.4944797158241272; accuracy=0.8269895911216736\n",
      "epoch=20; loss=0.56035977602005; accuracy=0.7914769649505615\n",
      "epoch=25; loss=0.524692714214325; accuracy=0.801311194896698\n",
      "epoch=30; loss=0.40703633427619934; accuracy=0.8324530720710754\n",
      "epoch=35; loss=0.44167599081993103; accuracy=0.819340705871582\n",
      "epoch=40; loss=0.41297367215156555; accuracy=0.8442906141281128\n",
      "epoch=45; loss=0.4123932123184204; accuracy=0.8535785675048828\n",
      "epoch=50; loss=0.4013936519622803; accuracy=0.8594062924385071\n"
     ]
    }
   ],
   "source": [
    "train(parameters, no_of_epochs=50, learning_rate=4e-1, batch_size=1024)"
   ]
  },
  {
   "cell_type": "code",
   "execution_count": 87,
   "metadata": {},
   "outputs": [
    {
     "name": "stdout",
     "output_type": "stream",
     "text": [
      "epoch=5; loss=0.3804209530353546; accuracy=0.8603168725967407\n",
      "epoch=10; loss=0.30301526188850403; accuracy=0.8767073154449463\n",
      "epoch=15; loss=0.34746670722961426; accuracy=0.8706974983215332\n",
      "epoch=20; loss=0.3037199378013611; accuracy=0.9082134366035461\n",
      "epoch=25; loss=0.26886311173439026; accuracy=0.8921871781349182\n",
      "epoch=30; loss=0.2956759035587311; accuracy=0.8892733454704285\n",
      "epoch=35; loss=0.3053615987300873; accuracy=0.8728829026222229\n",
      "epoch=40; loss=0.3092946410179138; accuracy=0.870879590511322\n",
      "epoch=45; loss=0.2900395691394806; accuracy=0.880167543888092\n",
      "epoch=50; loss=0.2876986861228943; accuracy=0.8807138800621033\n"
     ]
    }
   ],
   "source": [
    "train(parameters, no_of_epochs=50, learning_rate=4e-1, batch_size=1024)"
   ]
  },
  {
   "cell_type": "code",
   "execution_count": 88,
   "metadata": {},
   "outputs": [
    {
     "name": "stdout",
     "output_type": "stream",
     "text": [
      "epoch=5; loss=0.18215548992156982; accuracy=0.9544709324836731\n",
      "epoch=10; loss=0.18170930445194244; accuracy=0.9551994204521179\n",
      "epoch=15; loss=0.18126404285430908; accuracy=0.9555636048316956\n",
      "epoch=20; loss=0.18082618713378906; accuracy=0.9555636048316956\n",
      "epoch=25; loss=0.18039508163928986; accuracy=0.955927848815918\n",
      "epoch=30; loss=0.17997007071971893; accuracy=0.9562920928001404\n",
      "epoch=35; loss=0.17955094575881958; accuracy=0.9566563367843628\n",
      "epoch=40; loss=0.17913728952407837; accuracy=0.957202672958374\n",
      "epoch=45; loss=0.1787288933992386; accuracy=0.9575669169425964\n",
      "epoch=50; loss=0.17832538485527039; accuracy=0.9575669169425964\n"
     ]
    }
   ],
   "source": [
    "train(parameters, no_of_epochs=50, learning_rate=1e-1, batch_size=4096)"
   ]
  },
  {
   "cell_type": "markdown",
   "metadata": {},
   "source": [
    "We were able to achieve ~96% accuracy with just 1 layer of parameters"
   ]
  }
 ],
 "metadata": {
  "environment": {
   "name": "pytorch-gpu.1-4.m50",
   "type": "gcloud",
   "uri": "gcr.io/deeplearning-platform-release/pytorch-gpu.1-4:m50"
  },
  "kernelspec": {
   "display_name": "Python 3",
   "language": "python",
   "name": "python3"
  },
  "language_info": {
   "codemirror_mode": {
    "name": "ipython",
    "version": 3
   },
   "file_extension": ".py",
   "mimetype": "text/x-python",
   "name": "python",
   "nbconvert_exporter": "python",
   "pygments_lexer": "ipython3",
   "version": "3.8.3"
  }
 },
 "nbformat": 4,
 "nbformat_minor": 4
}
