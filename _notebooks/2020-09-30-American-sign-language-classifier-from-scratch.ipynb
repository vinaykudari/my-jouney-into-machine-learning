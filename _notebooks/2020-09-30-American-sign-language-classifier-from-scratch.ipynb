{
 "cells": [
  {
   "cell_type": "markdown",
   "metadata": {},
   "source": [
    "# \"American sign language classifier from scratch\"\n",
    "\n",
    "- toc: false\n",
    "- branch: master\n",
    "- badges: true\n",
    "- comments: true\n",
    "- categories: [classifier, scratch, vision]\n",
    "- hide: false\n",
    "- search_exclude: true\n",
    "- metadata_key1: metadata_value1\n",
    "- metadata_key2: metadata_value2"
   ]
  },
  {
   "cell_type": "code",
   "execution_count": 1,
   "metadata": {},
   "outputs": [],
   "source": [
    "from fastai.vision.all import *\n",
    "import pandas as pd"
   ]
  },
  {
   "cell_type": "code",
   "execution_count": 2,
   "metadata": {},
   "outputs": [
    {
     "data": {
      "text/plain": [
       "((3216, 785), (1379, 785))"
      ]
     },
     "execution_count": 2,
     "metadata": {},
     "output_type": "execute_result"
    }
   ],
   "source": [
    "df = pd.read_csv('/code/datasets/mnist_sign/sign_mnist_train.csv')\n",
    "classes = [3, 1, 23, 22]\n",
    "df = df[df.label.isin(classes)]\n",
    "train_df = df.sample(frac=0.7, random_state=100)\n",
    "test_df = df.drop(train_df.index)\n",
    "\n",
    "train_df.shape, test_df.shape"
   ]
  },
  {
   "cell_type": "code",
   "execution_count": 3,
   "metadata": {},
   "outputs": [],
   "source": [
    "def get_labels(df):\n",
    "    return tensor(df.iloc[:, 0].values)\n",
    "\n",
    "def get_image_tensors(df):\n",
    "    return torch.stack([tensor(image_array)/255. for image_array in df.iloc[:, 1:].values])\n",
    "\n",
    "def get_dataset(df):\n",
    "    return zip(get_image_tensors(df), get_labels(df))"
   ]
  },
  {
   "cell_type": "code",
   "execution_count": 4,
   "metadata": {},
   "outputs": [],
   "source": [
    "dataset = get_dataset(df)"
   ]
  },
  {
   "cell_type": "code",
   "execution_count": 5,
   "metadata": {},
   "outputs": [
    {
     "name": "stdout",
     "output_type": "stream",
     "text": [
      "tensor(3)\n",
      "tensor(22)\n"
     ]
    },
    {
     "data": {
      "image/png": "[encoded data removed]",
      "text/plain": [
       "<Figure size 72x72 with 1 Axes>"
      ]
     },
     "metadata": {
      "needs_background": "light"
     },
     "output_type": "display_data"
    },
    {
     "data": {
      "image/png": "[encoded data removed]",
      "text/plain": [
       "<Figure size 72x72 with 1 Axes>"
      ]
     },
     "metadata": {
      "needs_background": "light"
     },
     "output_type": "display_data"
    }
   ],
   "source": [
    "for image_tensor, label in list(dataset)[:2]:\n",
    "    print(label)\n",
    "    show_image(torch.reshape(image_tensor, (28, 28)), cmap='gray')"
   ]
  },
  {
   "cell_type": "markdown",
   "metadata": {},
   "source": [
    "### Initialize weights"
   ]
  },
  {
   "cell_type": "code",
   "execution_count": 6,
   "metadata": {},
   "outputs": [],
   "source": [
    "def get_random_weights(rows, cols):\n",
    "    return torch.randn(rows, cols).requires_grad_()"
   ]
  },
  {
   "cell_type": "code",
   "execution_count": 7,
   "metadata": {},
   "outputs": [
    {
     "data": {
      "text/plain": [
       "(torch.Size([784, 4]), torch.Size([1, 4]))"
      ]
     },
     "execution_count": 7,
     "metadata": {},
     "output_type": "execute_result"
    }
   ],
   "source": [
    "weights = get_random_weights(28*28, len(classes))\n",
    "bias = get_random_weights(1, len(classes))\n",
    "weights.shape, bias.shape"
   ]
  },
  {
   "cell_type": "markdown",
   "metadata": {},
   "source": [
    "### Get Predictions "
   ]
  },
  {
   "cell_type": "code",
   "execution_count": 8,
   "metadata": {},
   "outputs": [
    {
     "data": {
      "text/plain": [
       "(torch.Size([3216, 784]), torch.Size([784, 4]))"
      ]
     },
     "execution_count": 8,
     "metadata": {},
     "output_type": "execute_result"
    }
   ],
   "source": [
    "image_tensors = get_image_tensors(train_df)\n",
    "image_tensors.shape, weights.shape"
   ]
  },
  {
   "cell_type": "code",
   "execution_count": 9,
   "metadata": {},
   "outputs": [],
   "source": [
    "def get_predictions(image_tensors, weights, bias):\n",
    "    return image_tensors@weights + bias"
   ]
  },
  {
   "cell_type": "code",
   "execution_count": 10,
   "metadata": {},
   "outputs": [
    {
     "data": {
      "text/plain": [
       "torch.Size([3216, 4])"
      ]
     },
     "execution_count": 10,
     "metadata": {},
     "output_type": "execute_result"
    }
   ],
   "source": [
    "predictions = get_predictions(image_tensors, weights, bias)\n",
    "predictions.shape"
   ]
  },
  {
   "cell_type": "markdown",
   "metadata": {},
   "source": [
    "Check initial accuracy"
   ]
  },
  {
   "cell_type": "code",
   "execution_count": 11,
   "metadata": {},
   "outputs": [
    {
     "data": {
      "text/plain": [
       "tensor(0.2473)"
      ]
     },
     "execution_count": 11,
     "metadata": {},
     "output_type": "execute_result"
    }
   ],
   "source": [
    "test_image_tensors, test_labels = get_image_tensors(test_df), get_labels(test_df)\n",
    "test_preds = get_predictions(test_image_tensors, weights, bias)\n",
    "pred_classes = torch.argmax(test_preds, dim=1)\n",
    "\n",
    "# This will select the class value based on index of pred_classes\n",
    "preds = tensor(classes).gather(0, pred_classes)\n",
    "(preds == test_labels).float().mean() \n",
    "\n",
    "# Random weights are ~26% accurate"
   ]
  },
  {
   "cell_type": "code",
   "execution_count": 12,
   "metadata": {},
   "outputs": [
    {
     "data": {
      "text/plain": [
       "tensor([23, 23, 23,  ..., 23, 23, 23])"
      ]
     },
     "execution_count": 12,
     "metadata": {},
     "output_type": "execute_result"
    }
   ],
   "source": [
    "preds"
   ]
  },
  {
   "cell_type": "code",
   "execution_count": 13,
   "metadata": {},
   "outputs": [
    {
     "data": {
      "text/plain": [
       "tensor([ 3,  3,  3,  ...,  1, 22,  1])"
      ]
     },
     "execution_count": 13,
     "metadata": {},
     "output_type": "execute_result"
    }
   ],
   "source": [
    "test_labels"
   ]
  },
  {
   "cell_type": "markdown",
   "metadata": {},
   "source": [
    "### Calculate loss"
   ]
  },
  {
   "cell_type": "code",
   "execution_count": 29,
   "metadata": {},
   "outputs": [
    {
     "data": {
      "text/plain": [
       "tensor([2, 0, 3, 0, 3])"
      ]
     },
     "execution_count": 29,
     "metadata": {},
     "output_type": "execute_result"
    }
   ],
   "source": [
    "labels = get_labels(train_df)\n",
    "# get each label class\n",
    "target_classes = tensor([classes.index(c) for c in labels])\n",
    "target_classes[:5]"
   ]
  },
  {
   "cell_type": "code",
   "execution_count": 15,
   "metadata": {},
   "outputs": [
    {
     "data": {
      "text/plain": [
       "(tensor([1.0615e-09, 9.8741e-23, 1.0000e+00, 2.1552e-17],\n",
       "        grad_fn=<SelectBackward>),\n",
       " tensor([1.0615e-09, 9.8741e-23, 1.0000e+00, 2.1552e-17],\n",
       "        grad_fn=<SelectBackward>))"
      ]
     },
     "execution_count": 15,
     "metadata": {},
     "output_type": "execute_result"
    }
   ],
   "source": [
    "# softmax function turns the predictions into probabilities and amplifies the predictions \n",
    "def softmax(predictions):\n",
    "    return torch.exp(predictions)/torch.exp(predictions).sum(dim=1, keepdim=True)\n",
    "# pytorch equivalent\n",
    "activations_py = torch.softmax(predictions, dim=1)\n",
    "activations = softmax(predictions)\n",
    "\n",
    "activations[0], activations_py[0]"
   ]
  },
  {
   "cell_type": "code",
   "execution_count": 16,
   "metadata": {},
   "outputs": [
    {
     "data": {
      "text/plain": [
       "(tensor(0.2465, grad_fn=<MeanBackward0>),\n",
       " tensor(0.2465, grad_fn=<NegBackward>))"
      ]
     },
     "execution_count": 16,
     "metadata": {},
     "output_type": "execute_result"
    }
   ],
   "source": [
    "# mean of corresponding activations based on the target class\n",
    "loss = activations[range(len(target_classes)), target_classes].mean()\n",
    "# pytorch equivalent \n",
    "loss_py = -F.nll_loss(activations, target_classes)\n",
    "\n",
    "loss, loss_py"
   ]
  },
  {
   "cell_type": "code",
   "execution_count": 17,
   "metadata": {},
   "outputs": [],
   "source": [
    "# as softmax function turns predictions into probabilities, each activation is bounded between (0, 1) hence our model considers 0.900 and 0.999 as the same but the second prediction is 100 times more confident hence we use log to amplify the domain to (-inf, inf)"
   ]
  },
  {
   "cell_type": "code",
   "execution_count": 18,
   "metadata": {},
   "outputs": [
    {
     "data": {
      "text/plain": [
       "(tensor(20.1099, grad_fn=<NegBackward>),\n",
       " tensor(20.1099, grad_fn=<NllLossBackward>))"
      ]
     },
     "execution_count": 18,
     "metadata": {},
     "output_type": "execute_result"
    }
   ],
   "source": [
    "# softmax + log + negative_loss_likelyhood = cross_entropy_loss: this can be used for classification problems\n",
    "def cross_entropy_loss(predictions, target_classes): \n",
    "    activations = softmax(predictions)\n",
    "    activations_log = torch.log(activations)\n",
    "    loss = activations_log[range(len(target_classes)), target_classes].mean()\n",
    "    return -loss\n",
    "# pytorch equivalent\n",
    "cross_entropy_loss_py = F.cross_entropy(predictions, target_classes)\n",
    "\n",
    "cross_entropy_loss(predictions, target_classes), cross_entropy_loss_py"
   ]
  },
  {
   "cell_type": "markdown",
   "metadata": {},
   "source": [
    "### Optimise weights"
   ]
  },
  {
   "cell_type": "code",
   "execution_count": 19,
   "metadata": {},
   "outputs": [],
   "source": [
    "def train_epoch(dl, weights, bias, learning_rate):\n",
    "    for x, y in dl:\n",
    "        preds = get_predictions(x, weights, bias)\n",
    "        loss = cross_entropy_loss(preds, tensor([classes.index(item) for item in y]))\n",
    "        loss.backward()\n",
    "        weights.data = weights.data - weights.grad*learning_rate\n",
    "        bias.data -= bias.grad*learning_rate\n",
    "        weights.grad.zero_()\n",
    "        bias.grad.zero_()\n",
    "    print(f'loss={loss}')\n",
    "    return weights, bias"
   ]
  },
  {
   "cell_type": "code",
   "execution_count": 39,
   "metadata": {},
   "outputs": [
    {
     "name": "stdout",
     "output_type": "stream",
     "text": [
      "loss=0.03809681162238121\n",
      "loss=0.03796125203371048\n",
      "loss=0.0378265306353569\n",
      "loss=0.03769278526306152\n",
      "loss=0.037559859454631805\n",
      "loss=0.03742798790335655\n",
      "loss=0.03729705139994621\n",
      "loss=0.037166863679885864\n",
      "loss=0.03703761100769043\n",
      "loss=0.036909230053424835\n",
      "loss=0.03678176552057266\n",
      "loss=0.036655157804489136\n",
      "loss=0.03652939945459366\n",
      "loss=0.03640443831682205\n",
      "loss=0.03628034517168999\n",
      "loss=0.03615706413984299\n",
      "loss=0.03603459149599075\n",
      "loss=0.035912953317165375\n",
      "loss=0.03579215705394745\n",
      "loss=0.0356721431016922\n",
      "loss=0.03555278852581978\n",
      "loss=0.035434331744909286\n",
      "loss=0.03531665354967117\n",
      "loss=0.03519975394010544\n",
      "loss=0.03508364409208298\n",
      "loss=0.03496823087334633\n",
      "loss=0.0348534919321537\n",
      "loss=0.03473963215947151\n",
      "loss=0.03462645784020424\n",
      "loss=0.03451396897435188\n",
      "loss=0.03440222889184952\n",
      "loss=0.03429122269153595\n",
      "loss=0.034180786460638046\n",
      "loss=0.034071292728185654\n",
      "loss=0.033962275832891464\n",
      "loss=0.033854126930236816\n",
      "loss=0.03374640643596649\n",
      "loss=0.03363959118723869\n",
      "loss=0.033533405512571335\n",
      "loss=0.033427897840738297\n",
      "loss=0.03332299739122391\n",
      "loss=0.03321874141693115\n",
      "loss=0.033115189522504807\n",
      "loss=0.03301217034459114\n",
      "loss=0.032909877598285675\n",
      "loss=0.03280816599726677\n",
      "loss=0.032707154750823975\n",
      "loss=0.03260666877031326\n",
      "loss=0.032506898045539856\n",
      "loss=0.03240764141082764\n"
     ]
    }
   ],
   "source": [
    "for i in range(50):\n",
    "    dl = DataLoader(get_dataset(train_df), batch_size=256)\n",
    "    weights, bias = train_epoch(dl, weights, bias, 1e-1)"
   ]
  },
  {
   "cell_type": "code",
   "execution_count": 40,
   "metadata": {},
   "outputs": [
    {
     "data": {
      "text/plain": [
       "tensor(0.9978)"
      ]
     },
     "execution_count": 40,
     "metadata": {},
     "output_type": "execute_result"
    }
   ],
   "source": [
    "test_image_tensors, test_labels = get_image_tensors(test_df), get_labels(test_df)\n",
    "test_preds = get_predictions(test_image_tensors, weights, bias)\n",
    "pred_classes = torch.argmax(test_preds, dim=1)\n",
    "\n",
    "# This will select the class value based on index of pred_classes\n",
    "preds = tensor(classes).gather(0, pred_classes)\n",
    "(preds == test_labels).float().mean() \n",
    "\n",
    "# Random weights are ~26% accurate"
   ]
  },
  {
   "cell_type": "code",
   "execution_count": 22,
   "metadata": {},
   "outputs": [
    {
     "data": {
      "text/plain": [
       "tensor([ 3,  3,  3,  ...,  1, 22,  1])"
      ]
     },
     "execution_count": 22,
     "metadata": {},
     "output_type": "execute_result"
    }
   ],
   "source": [
    "preds"
   ]
  },
  {
   "cell_type": "code",
   "execution_count": 23,
   "metadata": {},
   "outputs": [
    {
     "data": {
      "text/plain": [
       "tensor([ 3,  3,  3,  ...,  1, 22,  1])"
      ]
     },
     "execution_count": 23,
     "metadata": {},
     "output_type": "execute_result"
    }
   ],
   "source": [
    "test_labels"
   ]
  },
  {
   "cell_type": "code",
   "execution_count": 24,
   "metadata": {},
   "outputs": [
    {
     "data": {
      "text/plain": [
       "tensor([[ 0.5173,  1.2840, -1.5024,  0.7560]], requires_grad=True)"
      ]
     },
     "execution_count": 24,
     "metadata": {},
     "output_type": "execute_result"
    }
   ],
   "source": [
    "bias"
   ]
  },
  {
   "cell_type": "code",
   "execution_count": 66,
   "metadata": {},
   "outputs": [
    {
     "data": {
      "text/plain": [
       "<AxesSubplot:>"
      ]
     },
     "execution_count": 66,
     "metadata": {},
     "output_type": "execute_result"
    },
    {
     "data": {
      "image/png": "[encoded data removed]",
      "text/plain": [
       "<Figure size 72x72 with 1 Axes>"
      ]
     },
     "metadata": {
      "needs_background": "light"
     },
     "output_type": "display_data"
    },
    {
     "data": {
      "image/png": "[encoded data removed]",
      "text/plain": [
       "<Figure size 72x72 with 1 Axes>"
      ]
     },
     "metadata": {
      "needs_background": "light"
     },
     "output_type": "display_data"
    },
    {
     "data": {
      "image/png": "[encoded data removed]",
      "text/plain": [
       "<Figure size 72x72 with 1 Axes>"
      ]
     },
     "metadata": {
      "needs_background": "light"
     },
     "output_type": "display_data"
    }
   ],
   "source": [
    "show_image(\n",
    "    torch.reshape(\n",
    "        tensor(df[df.label == classes[0]].values).float().mean(0)[1:],\n",
    "        (28, 28)\n",
    "    ),\n",
    "    cmap='gray'\n",
    ")\n",
    "show_image(\n",
    "    torch.reshape(weights[:, 0], (28, 28)),\n",
    "    cmap='gray'\n",
    ")\n",
    "show_image(\n",
    "    torch.reshape(\n",
    "        tensor(df[df.label == classes[0]].values[0][1:]),\n",
    "        (28, 28)\n",
    "    ),\n",
    "    cmap='gray'\n",
    ")"
   ]
  },
  {
   "cell_type": "code",
   "execution_count": 65,
   "metadata": {},
   "outputs": [
    {
     "data": {
      "text/plain": [
       "<AxesSubplot:>"
      ]
     },
     "execution_count": 65,
     "metadata": {},
     "output_type": "execute_result"
    },
    {
     "data": {
      "image/png": "[encoded data removed]",
      "text/plain": [
       "<Figure size 72x72 with 1 Axes>"
      ]
     },
     "metadata": {
      "needs_background": "light"
     },
     "output_type": "display_data"
    },
    {
     "data": {
      "image/png": "[encoded data removed]",
      "text/plain": [
       "<Figure size 72x72 with 1 Axes>"
      ]
     },
     "metadata": {
      "needs_background": "light"
     },
     "output_type": "display_data"
    },
    {
     "data": {
      "image/png": "[encoded data removed]",
      "text/plain": [
       "<Figure size 72x72 with 1 Axes>"
      ]
     },
     "metadata": {
      "needs_background": "light"
     },
     "output_type": "display_data"
    }
   ],
   "source": [
    "show_image(\n",
    "    torch.reshape(\n",
    "        tensor(df[df.label == classes[1]].values).float().mean(0)[1:],\n",
    "        (28, 28)\n",
    "    ),\n",
    "    cmap='gray'\n",
    ")\n",
    "show_image(\n",
    "    torch.reshape(weights[:, 1], (28, 28)),\n",
    "    cmap='gray'\n",
    ")\n",
    "show_image(\n",
    "    torch.reshape(\n",
    "        tensor(df[df.label == classes[1]].values[0][1:]),\n",
    "        (28, 28)\n",
    "    ),\n",
    "    cmap='gray'\n",
    ")"
   ]
  },
  {
   "cell_type": "code",
   "execution_count": 67,
   "metadata": {},
   "outputs": [
    {
     "data": {
      "text/plain": [
       "<AxesSubplot:>"
      ]
     },
     "execution_count": 67,
     "metadata": {},
     "output_type": "execute_result"
    },
    {
     "data": {
      "image/png": "[encoded data removed]",
      "text/plain": [
       "<Figure size 72x72 with 1 Axes>"
      ]
     },
     "metadata": {
      "needs_background": "light"
     },
     "output_type": "display_data"
    },
    {
     "data": {
      "image/png": "[encoded data removed]",
      "text/plain": [
       "<Figure size 72x72 with 1 Axes>"
      ]
     },
     "metadata": {
      "needs_background": "light"
     },
     "output_type": "display_data"
    },
    {
     "data": {
      "image/png": "[encoded data removed]",
      "text/plain": [
       "<Figure size 72x72 with 1 Axes>"
      ]
     },
     "metadata": {
      "needs_background": "light"
     },
     "output_type": "display_data"
    }
   ],
   "source": [
    "show_image(\n",
    "    torch.reshape(\n",
    "        tensor(df[df.label == classes[2]].values).float().mean(0)[1:],\n",
    "        (28, 28)\n",
    "    ),\n",
    "    cmap='gray'\n",
    ")\n",
    "show_image(\n",
    "    torch.reshape(weights[:, 2], (28, 28)),\n",
    "    cmap='gray'\n",
    ")\n",
    "show_image(\n",
    "    torch.reshape(\n",
    "        tensor(df[df.label == classes[2]].values[0][1:]),\n",
    "        (28, 28)\n",
    "    ),\n",
    "    cmap='gray'\n",
    ")"
   ]
  },
  {
   "cell_type": "code",
   "execution_count": 64,
   "metadata": {},
   "outputs": [
    {
     "data": {
      "text/plain": [
       "<AxesSubplot:>"
      ]
     },
     "execution_count": 64,
     "metadata": {},
     "output_type": "execute_result"
    },
    {
     "data": {
      "image/png": "[encoded data removed]",
      "text/plain": [
       "<Figure size 72x72 with 1 Axes>"
      ]
     },
     "metadata": {
      "needs_background": "light"
     },
     "output_type": "display_data"
    },
    {
     "data": {
      "image/png": "[encoded data removed]",
      "text/plain": [
       "<Figure size 72x72 with 1 Axes>"
      ]
     },
     "metadata": {
      "needs_background": "light"
     },
     "output_type": "display_data"
    },
    {
     "data": {
      "image/png": "[encoded data removed]",
      "text/plain": [
       "<Figure size 72x72 with 1 Axes>"
      ]
     },
     "metadata": {
      "needs_background": "light"
     },
     "output_type": "display_data"
    }
   ],
   "source": [
    "show_image(\n",
    "    torch.reshape(\n",
    "        tensor(df[df.label == classes[3]].values).float().mean(0)[1:],\n",
    "        (28, 28)\n",
    "    ),\n",
    "    cmap='gray'\n",
    ")\n",
    "show_image(\n",
    "    torch.reshape(weights[:, 3], (28, 28)),\n",
    "    cmap='gray'\n",
    ")\n",
    "show_image(\n",
    "    torch.reshape(\n",
    "        tensor(df[df.label == classes[3]].values[0][1:]),\n",
    "        (28, 28)\n",
    "    ),\n",
    "    cmap='gray'\n",
    ")"
   ]
  },
  {
   "cell_type": "code",
   "execution_count": 69,
   "metadata": {},
   "outputs": [
    {
     "data": {
      "text/plain": [
       "tensor([[ 328.1530, -383.5043,  399.9599, 1811.2157]], grad_fn=<AddBackward0>)"
      ]
     },
     "execution_count": 69,
     "metadata": {},
     "output_type": "execute_result"
    }
   ],
   "source": [
    "get_predictions(tensor(df[df.label == classes[3]].values).float().mean(0)[1:], weights, bias)"
   ]
  },
  {
   "cell_type": "code",
   "execution_count": 70,
   "metadata": {},
   "outputs": [
    {
     "data": {
      "text/plain": [
       "tensor([[  127.9882, -1535.2252,  2507.4573,  -280.5247]],\n",
       "       grad_fn=<AddBackward0>)"
      ]
     },
     "execution_count": 70,
     "metadata": {},
     "output_type": "execute_result"
    }
   ],
   "source": [
    "get_predictions(tensor(df[df.label == classes[2]].values).float().mean(0)[1:], weights, bias)"
   ]
  },
  {
   "cell_type": "code",
   "execution_count": 71,
   "metadata": {},
   "outputs": [
    {
     "data": {
      "text/plain": [
       "tensor([[ 352.4848, 1673.3523, -312.3260, -237.1402]], grad_fn=<AddBackward0>)"
      ]
     },
     "execution_count": 71,
     "metadata": {},
     "output_type": "execute_result"
    }
   ],
   "source": [
    "get_predictions(tensor(df[df.label == classes[1]].values).float().mean(0)[1:], weights, bias)"
   ]
  },
  {
   "cell_type": "code",
   "execution_count": 72,
   "metadata": {},
   "outputs": [
    {
     "data": {
      "text/plain": [
       "tensor([[1945.2909, -507.1653,  186.0164, -497.4277]], grad_fn=<AddBackward0>)"
      ]
     },
     "execution_count": 72,
     "metadata": {},
     "output_type": "execute_result"
    }
   ],
   "source": [
    "get_predictions(tensor(df[df.label == classes[0]].values).float().mean(0)[1:], weights, bias)"
   ]
  }
 ],
 "metadata": {
  "kernelspec": {
   "display_name": "Python 3",
   "language": "python",
   "name": "python3"
  },
  "language_info": {
   "codemirror_mode": {
    "name": "ipython",
    "version": 3
   },
   "file_extension": ".py",
   "mimetype": "text/x-python",
   "name": "python",
   "nbconvert_exporter": "python",
   "pygments_lexer": "ipython3",
   "version": "3.7.7"
  }
 },
 "nbformat": 4,
 "nbformat_minor": 4
}
