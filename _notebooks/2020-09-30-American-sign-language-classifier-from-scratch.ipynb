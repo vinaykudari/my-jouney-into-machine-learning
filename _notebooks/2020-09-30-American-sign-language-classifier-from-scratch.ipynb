{
 "cells": [
  {
   "cell_type": "markdown",
   "metadata": {},
   "source": [
    "# \"American sign language classifier from scratch\"\n",
    "\n",
    "- toc: false\n",
    "- branch: master\n",
    "- badges: true\n",
    "- comments: true\n",
    "- categories: [classifier, scratch, vision]\n",
    "- hide: false\n",
    "- search_exclude: true\n",
    "- metadata_key1: metadata_value1\n",
    "- metadata_key2: metadata_value2"
   ]
  },
  {
   "cell_type": "code",
   "execution_count": 1,
   "metadata": {},
   "outputs": [],
   "source": [
    "from fastai.vision.all import *\n",
    "import pandas as pd\n",
    "\n",
    "torch.cuda.set_device(0)\n",
    "torch.set_default_tensor_type('torch.cuda.FloatTensor')"
   ]
  },
  {
   "cell_type": "code",
   "execution_count": 2,
   "metadata": {},
   "outputs": [
    {
     "data": {
      "text/plain": [
       "((18436, 785), (7901, 785))"
      ]
     },
     "execution_count": 2,
     "metadata": {},
     "output_type": "execute_result"
    }
   ],
   "source": [
    "df = pd.read_csv('/code/datasets/mnist_sign/sign_mnist_train.csv')\n",
    "classes = range(24)\n",
    "df = df[df.label.isin(classes)]\n",
    "train_df = df.sample(frac=0.7, random_state=100)\n",
    "test_df = df.drop(train_df.index)\n",
    "\n",
    "train_df.shape, test_df.shape"
   ]
  },
  {
   "cell_type": "code",
   "execution_count": 3,
   "metadata": {},
   "outputs": [],
   "source": [
    "def get_labels(df):\n",
    "    return tensor(df.iloc[:, 0].values).to('cuda')\n",
    "\n",
    "def get_image_tensors(df):\n",
    "    return torch.stack([tensor(image_array)/255. for image_array in df.iloc[:, 1:].values]).to('cuda')\n",
    "\n",
    "def get_dataset(df):\n",
    "    return zip(get_image_tensors(df), get_labels(df))"
   ]
  },
  {
   "cell_type": "code",
   "execution_count": 4,
   "metadata": {},
   "outputs": [
    {
     "name": "stdout",
     "output_type": "stream",
     "text": [
      "tensor(3)\n",
      "tensor(6)\n"
     ]
    },
    {
     "data": {
      "image/png": "[encoded data removed]",
      "text/plain": [
       "<Figure size 72x72 with 1 Axes>"
      ]
     },
     "metadata": {
      "needs_background": "light"
     },
     "output_type": "display_data"
    },
    {
     "data": {
      "image/png": "[encoded data removed]",
      "text/plain": [
       "<Figure size 72x72 with 1 Axes>"
      ]
     },
     "metadata": {
      "needs_background": "light"
     },
     "output_type": "display_data"
    }
   ],
   "source": [
    "dataset = get_dataset(df)\n",
    "\n",
    "for image_tensor, label in list(dataset)[:2]:\n",
    "    print(label)\n",
    "    show_image(torch.reshape(image_tensor, (28, 28)), cmap='gray')"
   ]
  },
  {
   "cell_type": "markdown",
   "metadata": {},
   "source": [
    "### Initialize weights"
   ]
  },
  {
   "cell_type": "code",
   "execution_count": 5,
   "metadata": {},
   "outputs": [],
   "source": [
    "def get_random_weights(rows, cols):\n",
    "    return torch.randn(rows, cols).requires_grad_().to('cuda')"
   ]
  },
  {
   "cell_type": "code",
   "execution_count": 6,
   "metadata": {},
   "outputs": [
    {
     "data": {
      "text/plain": [
       "(torch.Size([784, 24]), torch.Size([1, 24]))"
      ]
     },
     "execution_count": 6,
     "metadata": {},
     "output_type": "execute_result"
    }
   ],
   "source": [
    "weights = get_random_weights(28*28, len(classes))\n",
    "bias = get_random_weights(1, len(classes))\n",
    "weights.shape, bias.shape"
   ]
  },
  {
   "cell_type": "markdown",
   "metadata": {},
   "source": [
    "### Get Predictions "
   ]
  },
  {
   "cell_type": "code",
   "execution_count": 7,
   "metadata": {},
   "outputs": [
    {
     "data": {
      "text/plain": [
       "(torch.Size([18436, 784]), torch.Size([784, 24]))"
      ]
     },
     "execution_count": 7,
     "metadata": {},
     "output_type": "execute_result"
    }
   ],
   "source": [
    "image_tensors = get_image_tensors(train_df)\n",
    "image_tensors.shape, weights.shape"
   ]
  },
  {
   "cell_type": "code",
   "execution_count": 8,
   "metadata": {},
   "outputs": [],
   "source": [
    "def get_predictions(image_tensors, weights, bias):\n",
    "    return image_tensors@weights + bias"
   ]
  },
  {
   "cell_type": "code",
   "execution_count": 9,
   "metadata": {},
   "outputs": [
    {
     "data": {
      "text/plain": [
       "torch.Size([18436, 24])"
      ]
     },
     "execution_count": 9,
     "metadata": {},
     "output_type": "execute_result"
    }
   ],
   "source": [
    "predictions = get_predictions(image_tensors, weights, bias)\n",
    "predictions.shape"
   ]
  },
  {
   "cell_type": "markdown",
   "metadata": {},
   "source": [
    "Check initial accuracy"
   ]
  },
  {
   "cell_type": "code",
   "execution_count": 10,
   "metadata": {},
   "outputs": [
    {
     "data": {
      "text/plain": [
       "tensor(0.0558)"
      ]
     },
     "execution_count": 10,
     "metadata": {},
     "output_type": "execute_result"
    }
   ],
   "source": [
    "test_image_tensors, test_labels = get_image_tensors(test_df), get_labels(test_df)\n",
    "test_preds = get_predictions(test_image_tensors, weights, bias)\n",
    "pred_classes = torch.argmax(test_preds, dim=1)\n",
    "\n",
    "# This will select the class value based on index of pred_classes\n",
    "preds = tensor(classes).gather(0, pred_classes)\n",
    "(preds == test_labels).float().mean() \n",
    "\n",
    "# Random weights are ~26% accurate"
   ]
  },
  {
   "cell_type": "markdown",
   "metadata": {},
   "source": [
    "### Calculate loss"
   ]
  },
  {
   "cell_type": "code",
   "execution_count": 11,
   "metadata": {},
   "outputs": [
    {
     "data": {
      "text/plain": [
       "tensor([ 5,  3,  2, 14,  5])"
      ]
     },
     "execution_count": 11,
     "metadata": {},
     "output_type": "execute_result"
    }
   ],
   "source": [
    "labels = get_labels(train_df)\n",
    "# get each label class\n",
    "target_classes = tensor([classes.index(c) for c in labels])\n",
    "target_classes[:5]"
   ]
  },
  {
   "cell_type": "code",
   "execution_count": 12,
   "metadata": {},
   "outputs": [
    {
     "data": {
      "text/plain": [
       "(tensor([6.3239e-17, 8.2544e-10, 2.2733e-07, 3.7576e-15, 4.5148e-20, 1.1652e-11,\n",
       "         4.1126e-16, 7.5506e-11, 3.5858e-05, 3.4664e-14, 1.2419e-25, 2.7958e-11,\n",
       "         1.3270e-28, 4.7249e-15, 1.7871e-15, 3.1533e-34, 1.0527e-21, 9.9996e-01,\n",
       "         3.2225e-10, 1.4737e-17, 6.0123e-15, 4.5272e-10, 1.8749e-19, 8.8592e-15],\n",
       "        grad_fn=<SelectBackward>),\n",
       " tensor([6.3239e-17, 8.2545e-10, 2.2733e-07, 3.7576e-15, 4.5148e-20, 1.1652e-11,\n",
       "         4.1126e-16, 7.5506e-11, 3.5858e-05, 3.4664e-14, 1.2419e-25, 2.7958e-11,\n",
       "         1.3270e-28, 4.7249e-15, 1.7871e-15, 3.1533e-34, 1.0527e-21, 9.9996e-01,\n",
       "         3.2225e-10, 1.4737e-17, 6.0123e-15, 4.5272e-10, 1.8749e-19, 8.8592e-15],\n",
       "        grad_fn=<SelectBackward>))"
      ]
     },
     "execution_count": 12,
     "metadata": {},
     "output_type": "execute_result"
    }
   ],
   "source": [
    "# softmax function turns the predictions into probabilities and amplifies the predictions \n",
    "def softmax(predictions):\n",
    "    return torch.exp(predictions)/torch.exp(predictions).sum(dim=1, keepdim=True)\n",
    "# pytorch equivalent\n",
    "activations_py = torch.softmax(predictions, dim=1)\n",
    "activations = softmax(predictions)\n",
    "\n",
    "activations[0], activations_py[0]"
   ]
  },
  {
   "cell_type": "code",
   "execution_count": 13,
   "metadata": {},
   "outputs": [
    {
     "data": {
      "text/plain": [
       "(tensor(0.0548, grad_fn=<MeanBackward0>),\n",
       " tensor(0.0548, grad_fn=<NegBackward>))"
      ]
     },
     "execution_count": 13,
     "metadata": {},
     "output_type": "execute_result"
    }
   ],
   "source": [
    "# mean of corresponding activations based on the target class\n",
    "loss = activations[range(len(target_classes)), target_classes].mean()\n",
    "# pytorch equivalent \n",
    "loss_py = -F.nll_loss(activations, target_classes)\n",
    "\n",
    "loss, loss_py"
   ]
  },
  {
   "cell_type": "code",
   "execution_count": 14,
   "metadata": {},
   "outputs": [],
   "source": [
    "# as softmax function turns predictions into probabilities, each activation is bounded between (0, 1) hence our model considers 0.900 and 0.999 as the same but the second prediction is 100 times more confident hence we use log to amplify the domain to (-inf, inf)"
   ]
  },
  {
   "cell_type": "code",
   "execution_count": 15,
   "metadata": {},
   "outputs": [
    {
     "data": {
      "text/plain": [
       "(tensor(inf, grad_fn=<NegBackward>),\n",
       " tensor(31.9168, grad_fn=<NllLossBackward>))"
      ]
     },
     "execution_count": 15,
     "metadata": {},
     "output_type": "execute_result"
    }
   ],
   "source": [
    "# softmax + log + negative_loss_likelyhood = cross_entropy_loss: this can be used for classification problems\n",
    "def cross_entropy_loss(predictions, target_classes): \n",
    "    activations = softmax(predictions)\n",
    "    activations_log = torch.log(activations)\n",
    "    loss = activations_log[range(len(target_classes)), target_classes].mean()\n",
    "    return -loss\n",
    "# pytorch equivalent\n",
    "cross_entropy_loss_py = F.cross_entropy(predictions, target_classes)\n",
    "\n",
    "cross_entropy_loss(predictions, target_classes), cross_entropy_loss_py"
   ]
  },
  {
   "cell_type": "markdown",
   "metadata": {},
   "source": [
    "### Optimise weights"
   ]
  },
  {
   "cell_type": "code",
   "execution_count": 16,
   "metadata": {},
   "outputs": [],
   "source": [
    "def train_epoch(dl, weights, bias, learning_rate):\n",
    "    for x, y in dl:\n",
    "        preds = get_predictions(x, weights, bias)\n",
    "        loss = cross_entropy_loss(preds, tensor([classes.index(item) for item in y]))\n",
    "        loss.backward()\n",
    "        weights.data = weights.data - weights.grad*learning_rate\n",
    "        bias.data -= bias.grad*learning_rate\n",
    "        weights.grad.zero_()\n",
    "        bias.grad.zero_()\n",
    "    print(f'loss={loss}')\n",
    "    return weights, bias"
   ]
  },
  {
   "cell_type": "code",
   "execution_count": null,
   "metadata": {},
   "outputs": [
    {
     "name": "stdout",
     "output_type": "stream",
     "text": [
      "loss=nan\n",
      "loss=nan\n"
     ]
    }
   ],
   "source": [
    "for i in range(50):\n",
    "    dl = DataLoader(get_dataset(train_df), batch_size=512)\n",
    "    weights, bias = train_epoch(dl, weights, bias, 1e-4)"
   ]
  },
  {
   "cell_type": "code",
   "execution_count": null,
   "metadata": {},
   "outputs": [],
   "source": [
    "test_image_tensors, test_labels = get_image_tensors(test_df), get_labels(test_df)\n",
    "test_preds = get_predictions(test_image_tensors, weights, bias)\n",
    "pred_classes = torch.argmax(test_preds, dim=1)\n",
    "\n",
    "# This will select the class value based on index of pred_classes\n",
    "preds = tensor(classes).gather(0, pred_classes)\n",
    "(preds == test_labels).float().mean() \n",
    "\n",
    "# Random weights are ~26% accurate"
   ]
  },
  {
   "cell_type": "code",
   "execution_count": null,
   "metadata": {},
   "outputs": [],
   "source": [
    "preds"
   ]
  },
  {
   "cell_type": "code",
   "execution_count": null,
   "metadata": {},
   "outputs": [],
   "source": [
    "test_labels"
   ]
  },
  {
   "cell_type": "code",
   "execution_count": null,
   "metadata": {},
   "outputs": [],
   "source": [
    "bias"
   ]
  },
  {
   "cell_type": "code",
   "execution_count": null,
   "metadata": {},
   "outputs": [],
   "source": [
    "show_image(\n",
    "    torch.reshape(\n",
    "        tensor(df[df.label == classes[0]].values).float().mean(0)[1:],\n",
    "        (28, 28)\n",
    "    ),\n",
    "    cmap='gray'\n",
    ")\n",
    "show_image(\n",
    "    torch.reshape(weights[:, 0], (28, 28)),\n",
    "    cmap='gray'\n",
    ")\n",
    "show_image(\n",
    "    torch.reshape(\n",
    "        tensor(df[df.label == classes[0]].values[0][1:]),\n",
    "        (28, 28)\n",
    "    ),\n",
    "    cmap='gray'\n",
    ")"
   ]
  },
  {
   "cell_type": "code",
   "execution_count": null,
   "metadata": {},
   "outputs": [],
   "source": [
    "show_image(\n",
    "    torch.reshape(\n",
    "        tensor(df[df.label == classes[1]].values).float().mean(0)[1:],\n",
    "        (28, 28)\n",
    "    ),\n",
    "    cmap='gray'\n",
    ")\n",
    "show_image(\n",
    "    torch.reshape(weights[:, 1], (28, 28)),\n",
    "    cmap='gray'\n",
    ")\n",
    "show_image(\n",
    "    torch.reshape(\n",
    "        tensor(df[df.label == classes[1]].values[0][1:]),\n",
    "        (28, 28)\n",
    "    ),\n",
    "    cmap='gray'\n",
    ")"
   ]
  },
  {
   "cell_type": "code",
   "execution_count": null,
   "metadata": {},
   "outputs": [],
   "source": [
    "show_image(\n",
    "    torch.reshape(\n",
    "        tensor(df[df.label == classes[2]].values).float().mean(0)[1:],\n",
    "        (28, 28)\n",
    "    ),\n",
    "    cmap='gray'\n",
    ")\n",
    "show_image(\n",
    "    torch.reshape(weights[:, 2], (28, 28)),\n",
    "    cmap='gray'\n",
    ")\n",
    "show_image(\n",
    "    torch.reshape(\n",
    "        tensor(df[df.label == classes[2]].values[0][1:]),\n",
    "        (28, 28)\n",
    "    ),\n",
    "    cmap='gray'\n",
    ")"
   ]
  },
  {
   "cell_type": "code",
   "execution_count": null,
   "metadata": {},
   "outputs": [],
   "source": [
    "show_image(\n",
    "    torch.reshape(\n",
    "        tensor(df[df.label == classes[3]].values).float().mean(0)[1:],\n",
    "        (28, 28)\n",
    "    ),\n",
    "    cmap='gray'\n",
    ")\n",
    "show_image(\n",
    "    torch.reshape(weights[:, 3], (28, 28)),\n",
    "    cmap='gray'\n",
    ")\n",
    "show_image(\n",
    "    torch.reshape(\n",
    "        tensor(df[df.label == classes[3]].values[0][1:]),\n",
    "        (28, 28)\n",
    "    ),\n",
    "    cmap='gray'\n",
    ")"
   ]
  },
  {
   "cell_type": "code",
   "execution_count": null,
   "metadata": {},
   "outputs": [],
   "source": [
    "get_predictions(tensor(df[df.label == classes[3]].values).float().mean(0)[1:], weights, bias)"
   ]
  },
  {
   "cell_type": "code",
   "execution_count": null,
   "metadata": {},
   "outputs": [],
   "source": [
    "get_predictions(tensor(df[df.label == classes[2]].values).float().mean(0)[1:], weights, bias)"
   ]
  },
  {
   "cell_type": "code",
   "execution_count": null,
   "metadata": {},
   "outputs": [],
   "source": [
    "get_predictions(tensor(df[df.label == classes[1]].values).float().mean(0)[1:], weights, bias)"
   ]
  },
  {
   "cell_type": "code",
   "execution_count": null,
   "metadata": {},
   "outputs": [],
   "source": [
    "get_predictions(tensor(df[df.label == classes[0]].values).float().mean(0)[1:], weights, bias)"
   ]
  }
 ],
 "metadata": {
  "kernelspec": {
   "display_name": "Python 3",
   "language": "python",
   "name": "python3"
  },
  "language_info": {
   "codemirror_mode": {
    "name": "ipython",
    "version": 3
   },
   "file_extension": ".py",
   "mimetype": "text/x-python",
   "name": "python",
   "nbconvert_exporter": "python",
   "pygments_lexer": "ipython3",
   "version": "3.7.7"
  }
 },
 "nbformat": 4,
 "nbformat_minor": 4
}
